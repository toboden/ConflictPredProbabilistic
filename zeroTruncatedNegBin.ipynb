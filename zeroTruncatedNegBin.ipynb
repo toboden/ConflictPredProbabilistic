{
 "cells": [
  {
   "cell_type": "code",
   "execution_count": 56,
   "metadata": {},
   "outputs": [],
   "source": [
    "from scipy.special import comb\n",
    "import numpy as np\n",
    "import math\n",
    "from scipy.stats import nbinom\n",
    "\n",
    "def truncNegBin_PDF(y, n, p):\n",
    "    one_f_zero = float(1 - nbinom.pmf(0, n, p))\n",
    "    return nbinom.pmf(y, n, p) / one_f_zero\n",
    "\n",
    "\n",
    "def truncNegBin_CDF(a,n,p):\n",
    "    p=float(p)\n",
    "    if a <= 0:\n",
    "        print('Error: y has to be greater than zero')\n",
    "    else:\n",
    "        cdf = 0\n",
    "        for y in range(1,a+1):\n",
    "            cdf = cdf + truncNegBin_PDF(y,n,p)\n",
    "        return cdf\n",
    "\n",
    "\n",
    "def truncNegBin_quantile(q, n, p):\n",
    "    if q < 0 or q > 1:\n",
    "        print('Error: quantile has to fit in the intervall [0,1]')\n",
    "    elif q == 0:\n",
    "        return -1\n",
    "    elif q == 1:\n",
    "        return float('inf')\n",
    "    else:\n",
    "        y = 1\n",
    "        while truncNegBin_CDF(y, n, p) < q:\n",
    "            y += 1\n",
    "        return y\n",
    "    \n",
    "quantiles = np.arange(0.001, 0.9999, 0.001)\n",
    "quantiles = [round(q, 3) for q in quantiles] # due to binary inaccuracies"
   ]
  },
  {
   "cell_type": "code",
   "execution_count": 111,
   "metadata": {},
   "outputs": [
    {
     "data": {
      "text/plain": [
       "1"
      ]
     },
     "execution_count": 111,
     "metadata": {},
     "output_type": "execute_result"
    }
   ],
   "source": [
    "q = np.array([0])\n",
    "len(q)"
   ]
  },
  {
   "cell_type": "code",
   "execution_count": 222,
   "metadata": {},
   "outputs": [
    {
     "name": "stdout",
     "output_type": "stream",
     "text": [
      "1.0\n",
      "0.9999999999999994\n"
     ]
    }
   ],
   "source": [
    "\"\"\" def truncNegBin_CDF(y, n, p):\n",
    "    f_zero = float(nbinom.pmf(0, n, p))\n",
    "    if y > 0:\n",
    "        return (1/1 - f_zero) * (nbinom.cdf(y, n, p) - f_zero)\n",
    "    elif y == 0:\n",
    "        return 0\n",
    "    else:\n",
    "        return 'y has to be > 0' \"\"\"\n",
    "\n",
    "def truncNegBin_PDF(y, n, p):\n",
    "    one_f_zero = float(1 - nbinom.pmf(0, n, p))\n",
    "    return nbinom.pmf(y, n, p) / one_f_zero\n",
    "    \n",
    "def truncNegBin_CDF(a,n,p):\n",
    "    p=float(p)\n",
    "    if a <= 0:\n",
    "        return 'y has to be greater than zero'\n",
    "    else:\n",
    "        pdf_array = np.array([truncNegBin_PDF(yi, n, p) for yi in range(1, a+1)])\n",
    "        return np.cumsum(pdf_array)[-1]\n",
    "\n",
    "\n",
    "def truncNegBin_quantile(quantiles, n, p):\n",
    "    f_0 = nbinom.pmf(0, n, p)\n",
    "\n",
    "    # if p(y=0) = 0 no truncation is required\n",
    "    if (1-f_0) == 1:\n",
    "        return nbinom.ppf(quantiles, n, p).tolist()\n",
    "    else:\n",
    "        y = 1\n",
    "        while truncNegBin_CDF(y,n,p) < 1:\n",
    "            y+=1\n",
    "\n",
    "        cdf_values = [truncNegBin_CDF(yi, n, p) for yi in range(1, y+1)]\n",
    "\n",
    "        # if single quantile is handed over\n",
    "        if isinstance(quantiles, float):\n",
    "            quantile_list = list([quantiles])\n",
    "            return np.argmax(cdf_values >= quantile_list) + 1\n",
    "        else:\n",
    "            quantile_list = []\n",
    "            for quantile in quantiles:\n",
    "                y = np.argmax(cdf_values >= quantile) + 1 # cdf_values[0] = cdf(y=1), because of that +1\n",
    "                quantile_list.append(y)\n",
    "\n",
    "            return quantile_list\n",
    "\n",
    "\n",
    "mean = 1\n",
    "var = 8\n",
    "\n",
    "n = (mean**2) / (var - mean) # equivalent to r\n",
    "p = mean / var\n",
    "\n",
    "print(nbinom.cdf(1000, n, p))\n",
    "print(truncNegBin_CDF(100000, n, p))\n",
    "#float(1 - nbinom.pmf(0, n, p))"
   ]
  },
  {
   "cell_type": "code",
   "execution_count": 227,
   "metadata": {},
   "outputs": [
    {
     "data": {
      "text/plain": [
       "1"
      ]
     },
     "execution_count": 227,
     "metadata": {},
     "output_type": "execute_result"
    }
   ],
   "source": [
    "mean = 1\n",
    "var = 8\n",
    "\n",
    "n = (mean**2) / (var - mean) # equivalent to r\n",
    "p = mean / var\n",
    "a = 100000\n",
    "\n",
    "\"\"\" pdf_array = np.array([truncNegBin_PDF(yi, n, p) for yi in range(1, a+1)])\n",
    "np.cumsum(pdf_array) \"\"\"\n",
    "\n",
    "def find_first_positive(a, n, p):\n",
    "    y_values = range(1, a+1)\n",
    "    probabilities = np.array([truncNegBin_PDF(yi, n, p) for yi in y_values])\n",
    "    first_positive = np.argmin(probabilities <= 0)\n",
    "    return y_values[first_positive]\n",
    "\n",
    "find_first_positive(a, n , p)"
   ]
  },
  {
   "cell_type": "code",
   "execution_count": 241,
   "metadata": {},
   "outputs": [
    {
     "name": "stdout",
     "output_type": "stream",
     "text": [
      "0.7345475197036238\n"
     ]
    },
    {
     "data": {
      "text/plain": [
       "array([0.06883473, 0.109775  , 0.1396419 , ..., 0.99999998, 0.99999998,\n",
       "       0.99999998])"
      ]
     },
     "execution_count": 241,
     "metadata": {},
     "output_type": "execute_result"
    }
   ],
   "source": [
    "mean = 200\n",
    "var = 210000\n",
    "\n",
    "n = (mean**2) / (var - mean) # equivalent to r\n",
    "p = mean / var\n",
    "\n",
    "print(1-nbinom.pmf(0, n, p))\n",
    "\n",
    "pdf_array = np.array([truncNegBin_PDF(yi, n, p) for yi in range(1, 15000+1)])\n",
    "\n",
    "\"\"\" one_f_zero = float(1 - nbinom.pmf(0, n, p))\n",
    "print(one_f_zero)\n",
    "print((1/one_f_zero)*nbinom.cdf(0.1, n, p)) \"\"\"\n",
    "np.cumsum(pdf_array)\n"
   ]
  },
  {
   "cell_type": "code",
   "execution_count": 209,
   "metadata": {},
   "outputs": [
    {
     "data": {
      "text/plain": [
       "array([ 1,  2,  3,  4,  5,  6,  7,  8,  9, 10])"
      ]
     },
     "execution_count": 209,
     "metadata": {},
     "output_type": "execute_result"
    }
   ],
   "source": [
    "liste = np.array(range(1,10+1))\n",
    "liste"
   ]
  },
  {
   "cell_type": "code",
   "execution_count": null,
   "metadata": {},
   "outputs": [],
   "source": [
    "\n",
    "# BSP für mean=200 und var=300 -> n=400, p=2/3\n",
    "#truncNegBin_CDF(100,200,2/3)\n",
    "\n",
    "#truncNegBin_PDF(100,400,0.66)\n",
    "\n",
    "\n",
    "liste1=[]\n",
    "\n",
    "for quantile in quantiles:\n",
    "    liste1.append(truncNegBin_quantile(quantile, 400, 2/3))\n",
    "    print(str(quantile), end='\\r')\n",
    "\n",
    "liste1"
   ]
  },
  {
   "cell_type": "code",
   "execution_count": 12,
   "metadata": {},
   "outputs": [
    {
     "ename": "IndexError",
     "evalue": "list index out of range",
     "output_type": "error",
     "traceback": [
      "\u001b[1;31m---------------------------------------------------------------------------\u001b[0m",
      "\u001b[1;31mIndexError\u001b[0m                                Traceback (most recent call last)",
      "Cell \u001b[1;32mIn[12], line 12\u001b[0m\n\u001b[0;32m     10\u001b[0m \u001b[39mfor\u001b[39;00m quantile \u001b[39min\u001b[39;00m quantiles:\n\u001b[0;32m     11\u001b[0m     y \u001b[39m=\u001b[39m \u001b[39m1\u001b[39m\n\u001b[1;32m---> 12\u001b[0m     \u001b[39mwhile\u001b[39;00m cdf_values[y\u001b[39m-\u001b[39;49m\u001b[39m1\u001b[39;49m] \u001b[39m<\u001b[39m quantile:\n\u001b[0;32m     13\u001b[0m         y \u001b[39m+\u001b[39m\u001b[39m=\u001b[39m \u001b[39m1\u001b[39m\n\u001b[0;32m     14\u001b[0m     liste2\u001b[39m.\u001b[39mappend(y)\n",
      "\u001b[1;31mIndexError\u001b[0m: list index out of range"
     ]
    }
   ],
   "source": [
    "## Alternative definition of the Negative Binomial\n",
    "# n is the number of successes = theta\n",
    "# p is the probability of a single success; (1-p) is the probability of a single failure\n",
    "# y Anzahl der Misserfolge vor dem nten Erfolg\n",
    "n = 400\n",
    "p = 1/3\n",
    "cdf_values = [truncNegBin_CDF(y, n, p) for y in range(1, n+1)]\n",
    "\n",
    "liste2 = []\n",
    "#quantile berechnen\n",
    "for quantile in quantiles:\n",
    "    y = 1\n",
    "    while cdf_values[y-1] < quantile:\n",
    "        y += 1\n",
    "    liste2.append(y)\n",
    "    print(str(quantile), end='\\r')\n",
    "\n",
    "cdf_values = np.array(cdf_values)  # Konvertiere die cdf_values in ein Numpy-Array\n",
    "\n",
    "liste = []\n",
    "for quantile in quantiles:\n",
    "    y = np.argmax(cdf_values >= quantile) + 1\n",
    "    liste2.append(y)\n",
    "    print(str(quantile), end='\\r')\n",
    "\n",
    "#liste2 = np.array(liste2)  # Konvertiere die liste in ein Numpy-Array\n",
    "\n",
    "#liste2\n"
   ]
  },
  {
   "cell_type": "code",
   "execution_count": 22,
   "metadata": {},
   "outputs": [
    {
     "ename": "OverflowError",
     "evalue": "math range error",
     "output_type": "error",
     "traceback": [
      "\u001b[1;31m---------------------------------------------------------------------------\u001b[0m",
      "\u001b[1;31mOverflowError\u001b[0m                             Traceback (most recent call last)",
      "Cell \u001b[1;32mIn[22], line 6\u001b[0m\n\u001b[0;32m      2\u001b[0m mu \u001b[39m=\u001b[39m \u001b[39m200\u001b[39m\n\u001b[0;32m      5\u001b[0m \u001b[39m#truncNegBin_quantile(0.999, 400, 0.1)\u001b[39;00m\n\u001b[1;32m----> 6\u001b[0m truncNegBin_PDF(\u001b[39m100\u001b[39;49m,mu,theta)\n",
      "Cell \u001b[1;32mIn[19], line 10\u001b[0m, in \u001b[0;36mtruncNegBin_PDF\u001b[1;34m(y, mu, theta)\u001b[0m\n\u001b[0;32m      9\u001b[0m \u001b[39mdef\u001b[39;00m \u001b[39mtruncNegBin_PDF\u001b[39m(y,mu,theta):\n\u001b[1;32m---> 10\u001b[0m     \u001b[39mreturn\u001b[39;00m (math\u001b[39m.\u001b[39;49mgamma(y \u001b[39m+\u001b[39;49m theta) \u001b[39m/\u001b[39m (math\u001b[39m.\u001b[39mgamma(theta) \u001b[39m*\u001b[39m math\u001b[39m.\u001b[39mfactorial(y))) \u001b[39m*\u001b[39m ((mu \u001b[39m*\u001b[39m\u001b[39m*\u001b[39m y \u001b[39m*\u001b[39m theta \u001b[39m*\u001b[39m\u001b[39m*\u001b[39m theta) \u001b[39m/\u001b[39m ((mu \u001b[39m+\u001b[39m theta) \u001b[39m*\u001b[39m\u001b[39m*\u001b[39m (y \u001b[39m+\u001b[39m theta)))\n",
      "\u001b[1;31mOverflowError\u001b[0m: math range error"
     ]
    }
   ],
   "source": [
    "theta = 400\n",
    "mu = 200\n",
    "\n",
    "\n",
    "#truncNegBin_quantile(0.999, 400, 0.1)\n",
    "truncNegBin_PDF(100,mu,theta)"
   ]
  },
  {
   "cell_type": "code",
   "execution_count": 17,
   "metadata": {},
   "outputs": [
    {
     "data": {
      "text/plain": [
       "0.0"
      ]
     },
     "execution_count": 17,
     "metadata": {},
     "output_type": "execute_result"
    }
   ],
   "source": [
    "0.01**400"
   ]
  },
  {
   "cell_type": "code",
   "execution_count": 53,
   "metadata": {},
   "outputs": [
    {
     "data": {
      "text/plain": [
       "3.3780230182412004e-255"
      ]
     },
     "execution_count": 53,
     "metadata": {},
     "output_type": "execute_result"
    }
   ],
   "source": [
    "from scipy.stats import nbinom\n",
    "\n",
    "def truncNegBin_PDF(y,n,p):\n",
    "    one_f_zero = float(1 - nbinom.pmf(0, n, p))\n",
    "    return nbinom.pmf(y, n, p)/one_f_zero\n",
    "\n",
    "n = 400\n",
    "p = 2/3\n",
    "truncNegBin_PDF(1200,n,p)"
   ]
  },
  {
   "cell_type": "code",
   "execution_count": 47,
   "metadata": {},
   "outputs": [
    {
     "ename": "OverflowError",
     "evalue": "math range error",
     "output_type": "error",
     "traceback": [
      "\u001b[1;31m---------------------------------------------------------------------------\u001b[0m",
      "\u001b[1;31mOverflowError\u001b[0m                             Traceback (most recent call last)",
      "Cell \u001b[1;32mIn[47], line 5\u001b[0m\n\u001b[0;32m      2\u001b[0m y \u001b[39m=\u001b[39m \u001b[39m4\u001b[39m\n\u001b[0;32m      3\u001b[0m \u001b[39m#print(gamma(y + theta) / (gamma(theta)))  #* math.factorial(y)\u001b[39;00m\n\u001b[0;32m      4\u001b[0m \u001b[39m#gammaln\u001b[39;00m\n\u001b[1;32m----> 5\u001b[0m \u001b[39mprint\u001b[39m(math\u001b[39m.\u001b[39;49mexp(gammaln(y \u001b[39m+\u001b[39;49m theta)) \u001b[39m/\u001b[39m math\u001b[39m.\u001b[39mexp(gammaln(theta)))\n\u001b[0;32m      6\u001b[0m \u001b[39mprint\u001b[39m(theta\u001b[39m*\u001b[39m\u001b[39m*\u001b[39my)\n",
      "\u001b[1;31mOverflowError\u001b[0m: math range error"
     ]
    }
   ],
   "source": [
    "theta = 401\n",
    "y = 4\n",
    "#print(gamma(y + theta) / (gamma(theta)))  #* math.factorial(y)\n",
    "#gammaln\n",
    "print(math.exp(gammaln(y + theta)) / math.exp(gammaln(theta)))\n",
    "print(theta**y)"
   ]
  },
  {
   "cell_type": "code",
   "execution_count": null,
   "metadata": {},
   "outputs": [],
   "source": [
    "\n",
    "\n",
    "def calculate_quantile(p, n, pdf_func):\n",
    "    # Finde das Quantil q, für das CDF(q) = p gilt\n",
    "    quantile = nbinom.ppf(p, n, loc=0, p=pdf_func)\n",
    "    return quantile\n",
    "\n",
    "# Beispielverwendung\n",
    "n = 5\n",
    "p = 0.3\n",
    "pdf_func = lambda y: truncNegBin_PDF(y, n, p)\n",
    "\n",
    "# Berechne das 0.25-Quantil\n",
    "quantile_25 = calculate_quantile(0.25, n, pdf_func)\n",
    "print(\"25-Quantil:\", quantile_25)\n",
    "\n",
    "# Berechne das 0.50-Quantil\n",
    "quantile_50 = calculate_quantile(0.5, n, pdf_func)\n",
    "print(\"50-Quantil:\", quantile_50)\n",
    "\n",
    "# Berechne das 0.75-Quantil\n",
    "quantile_75 = calculate_quantile(0.75, n, pdf_func)\n",
    "print(\"75-Quantil:\", quantile_75)\n",
    "\n"
   ]
  },
  {
   "cell_type": "code",
   "execution_count": null,
   "metadata": {},
   "outputs": [],
   "source": []
  }
 ],
 "metadata": {
  "kernelspec": {
   "display_name": "Python 3",
   "language": "python",
   "name": "python3"
  },
  "language_info": {
   "codemirror_mode": {
    "name": "ipython",
    "version": 3
   },
   "file_extension": ".py",
   "mimetype": "text/x-python",
   "name": "python",
   "nbconvert_exporter": "python",
   "pygments_lexer": "ipython3",
   "version": "3.11.1"
  },
  "orig_nbformat": 4
 },
 "nbformat": 4,
 "nbformat_minor": 2
}
