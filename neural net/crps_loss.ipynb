{
 "cells": [
  {
   "cell_type": "code",
   "execution_count": 25,
   "metadata": {},
   "outputs": [],
   "source": [
    "import torch\n",
    "import CRPS.CRPS as pscore\n",
    "import numpy as np\n",
    "import properscoring as ps\n",
    "import time\n",
    "\n"
   ]
  },
  {
   "cell_type": "code",
   "execution_count": 27,
   "metadata": {},
   "outputs": [
    {
     "name": "stdout",
     "output_type": "stream",
     "text": [
      "Die Schleife zur Berechnung benötigte 2.9192209243774414 Sekunden.\n",
      "Die Schleife zur Berechnung benötigte 3.5942647457122803 Sekunden.\n"
     ]
    }
   ],
   "source": [
    "dist = np.array([1,2,3,4,5,6,7,8,9,10])\n",
    "y = 5\n",
    "\n",
    "# Beginne die Zeitmessung\n",
    "start_time = time.time()\n",
    "for i in range(0,10000):\n",
    "    crps = pscore(dist,y).compute()[0]\n",
    "    #print('CRPS package: ' +  str(crps))\n",
    "# Beende die Zeitmessung\n",
    "end_time = time.time()\n",
    "# Berechne die Dauer der Schleife\n",
    "duration = end_time - start_time\n",
    "\n",
    "print(\"Die Schleife zur Berechnung benötigte {} Sekunden.\".format(duration))\n",
    "\n",
    "\n",
    "# Beginne die Zeitmessung\n",
    "start_time = time.time()\n",
    "for i in range(0,10000):\n",
    "    crps2 = ps.crps_ensemble(y, dist)\n",
    "    #print('properscoring package: ' +  str(crps2))\n",
    "# Beende die Zeitmessung\n",
    "end_time = time.time()\n",
    "# Berechne die Dauer der Schleife\n",
    "duration = end_time - start_time\n",
    "\n",
    "print(\"Die Schleife zur Berechnung benötigte {} Sekunden.\".format(duration))"
   ]
  },
  {
   "cell_type": "code",
   "execution_count": null,
   "metadata": {},
   "outputs": [],
   "source": []
  }
 ],
 "metadata": {
  "kernelspec": {
   "display_name": "Python 3",
   "language": "python",
   "name": "python3"
  },
  "language_info": {
   "codemirror_mode": {
    "name": "ipython",
    "version": 3
   },
   "file_extension": ".py",
   "mimetype": "text/x-python",
   "name": "python",
   "nbconvert_exporter": "python",
   "pygments_lexer": "ipython3",
   "version": "3.11.1"
  },
  "orig_nbformat": 4
 },
 "nbformat": 4,
 "nbformat_minor": 2
}
