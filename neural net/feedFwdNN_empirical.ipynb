{
 "cells": [
  {
   "cell_type": "markdown",
   "metadata": {},
   "source": [
    "## Load the data"
   ]
  },
  {
   "cell_type": "code",
   "execution_count": 1,
   "metadata": {},
   "outputs": [],
   "source": [
    "import pandas as pd\n",
    "import numpy as np\n",
    "import os\n",
    "import CRPS.CRPS as pscore\n",
    "import copy\n",
    "from joblib import dump, load\n",
    "from scipy.stats import nbinom, poisson\n",
    "from time import sleep\n",
    "from tqdm import tqdm\n",
    "import warnings\n",
    "\n",
    "\n",
    "def check_Actuals(country_id, dataindex):\n",
    "    # Check if the country_id exists in actual dataset\n",
    "    if country_id not in country_actual_group_list[dataindex].groups.keys():\n",
    "        return False\n",
    "    else:\n",
    "        return True\n",
    "\n",
    "# check if the last month of a country in the feature dataset is 3 months before the first month that has to be predicted\n",
    "def check_last_featureMonth(country_id, dataindex):\n",
    "    # Check if the country_id exists in actual dataset\n",
    "    if country_id not in country_actual_group_list[dataindex].groups.keys():\n",
    "        raise ValueError('country does not have actuals')\n",
    "\n",
    "\n",
    "    # last month of the feature dataset\n",
    "    last_feature_month = country_feature_group_list[dataindex].get_group(country_id).index.get_level_values('month_id').unique().tolist()[-1]\n",
    "\n",
    "    # first month of the actual dataset\n",
    "    first_actual_month = country_actual_group_list[dataindex].get_group(country_id).index.get_level_values('month_id').unique().tolist()[0]\n",
    "\n",
    "    # if the last month of the feature dataset in the country does not match the first of the actuals return false\n",
    "    if (first_actual_month - 3) != last_feature_month:\n",
    "        return False\n",
    "    else:\n",
    "        return True\n",
    "\n",
    "\n",
    "# create the feature- and actuals-data list\n",
    "# set the feature and actuals year lists\n",
    "feature_years = ['2017','2018','2019','2020']\n",
    "actual_years = ['2018','2019','2020','2021']\n",
    "\n",
    "actuals_df_list = []\n",
    "features_df_list = []\n",
    "\n",
    "# path to the current directory\n",
    "current_dir = os.getcwd()\n",
    "\n",
    "for i in range(len(feature_years)):\n",
    "    # relative paths to the parquet files\n",
    "    relative_path_features = os.path.join('..', 'data', 'cm_features_to_oct' + feature_years[i] + '.parquet')\n",
    "    relative_path_actuals = os.path.join('..', 'data', 'cm_actuals_' + actual_years[i] + '.parquet')\n",
    "\n",
    "    path_features = os.path.join(current_dir, relative_path_features)\n",
    "    path_actuals = os.path.join(current_dir, relative_path_actuals)\n",
    "\n",
    "    # append datasets to the lists\n",
    "    actuals_df_list.append({'year':actual_years[i], 'data':pd.read_parquet(path_actuals, engine='pyarrow')})\n",
    "    features_df_list.append({'year':feature_years[i], 'data':pd.read_parquet(path_features, engine='pyarrow')})\n",
    "\n",
    "# concat the feature datasets, so that every data contains the observations starting with january 1990\n",
    "for i in range(1,len(features_df_list)):\n",
    "    features_df_list[i]['data'] = pd.concat([features_df_list[i-1]['data'], features_df_list[i]['data']])\n",
    "\n",
    "country_list = sorted(features_df_list[3]['data'].index.get_level_values('country_id').unique().tolist())\n",
    "\n",
    "# country group list of all four datasets\n",
    "country_feature_group_list = []\n",
    "country_actual_group_list = []\n",
    "# fill list \n",
    "for i in range(len(features_df_list)):\n",
    "    country_feature_group_list.append(features_df_list[i]['data'].groupby('country_id'))\n",
    "    country_actual_group_list.append(actuals_df_list[i]['data'].groupby('country_id'))"
   ]
  },
  {
   "cell_type": "markdown",
   "metadata": {},
   "source": [
    "## Länder aussortieren\n",
    "die nicht gefordert sind und\n",
    "*  die keine actuals haben\n",
    "*  die zu wenig Beobachtungen haben"
   ]
  },
  {
   "cell_type": "code",
   "execution_count": 2,
   "metadata": {},
   "outputs": [],
   "source": [
    "relative_path_countrylist = os.path.join('..', 'data', 'country_list.csv')\n",
    "path_countrylist = os.path.join(current_dir, relative_path_countrylist)\n",
    "\n",
    "# CSV-Datei einlesen und als Pandas-Datensatz speichern\n",
    "countryList_prediction = pd.read_csv(path_countrylist)\n",
    "country_list_views = countryList_prediction.loc[:,'country_id'].values.tolist() \n",
    "\n",
    "month_list = []\n",
    "countries_to_remove = []\n",
    "for country_id in country_list:\n",
    "\n",
    "    if country_id in country_list_views:\n",
    "        feature_data = country_feature_group_list[0].get_group(country_id)\n",
    "\n",
    "        # numbers of months from the feature dataset\n",
    "        month_list_feature_data_original = feature_data.index.get_level_values('month_id').tolist()\n",
    "        number_months_feature_data = len(month_list_feature_data_original) \n",
    "\n",
    "        if check_Actuals(country_id, 0):\n",
    "            if not check_last_featureMonth(country_id, 0): \n",
    "                month_list.append([str(country_id) +' last month missing'])\n",
    "            else:\n",
    "                month_list.append([number_months_feature_data, country_id])\n",
    "        else:\n",
    "            month_list.append(str(country_id) + ' no actuals')\n",
    "    else:\n",
    "        countries_to_remove.append(country_id)\n",
    "\n",
    "country_list = list(set(country_list) - set(countries_to_remove))\n",
    "month_list.sort()"
   ]
  },
  {
   "cell_type": "markdown",
   "metadata": {},
   "source": [
    "check for possible Nan's in all Datasets"
   ]
  },
  {
   "cell_type": "code",
   "execution_count": 3,
   "metadata": {},
   "outputs": [],
   "source": [
    "# check for nan's\n",
    "for featurelist in features_df_list:\n",
    "    is_na_series = featurelist['data'].isna().sum()\n",
    "\n",
    "    for i in range(len(is_na_series)):\n",
    "        if is_na_series[i] > 0 :\n",
    "            print(str(is_na_series.index[i]) + ': ' + str(is_na_series[i]))"
   ]
  },
  {
   "cell_type": "markdown",
   "metadata": {},
   "source": [
    "## Feed forward Neural Net\n",
    "Goal is to estimate the empirical distribution of the fatalities per month.\n",
    "\n",
    "### CRPS Loss function\n",
    "CRPS for samples from random variables with a finite first moment."
   ]
  },
  {
   "cell_type": "code",
   "execution_count": 4,
   "metadata": {},
   "outputs": [],
   "source": [
    "import numpy as np\n",
    "import tensorflow as tf\n",
    "from tensorflow import keras\n",
    "import tensorflow.keras.backend as K\n",
    "from tensorflow.keras.models import Model\n",
    "from tensorflow.keras import layers\n",
    "from tensorflow.keras.losses import Loss\n",
    "import matplotlib.pyplot as plt\n",
    "import seaborn as sns\n",
    "\n",
    "# crps loss function \n",
    "def crps(y_true, S):\n",
    "    \"\"\"\n",
    "    Computes continuous ranked probability score:\n",
    "\n",
    "    Parameters\n",
    "    ----------\n",
    "    y_true : tf tensor of shape (BATCH_SIZE, 1)\n",
    "        True values.\n",
    "    S : tf tensor of shape (BATCH_SIZE, N_SAMPLES)\n",
    "        Predictive samples.\n",
    "\n",
    "    Returns\n",
    "    -------\n",
    "    tf tensor of shape (BATCH_SIZE,)\n",
    "        Scores.\n",
    "\n",
    "    \"\"\"\n",
    "    beta=1\n",
    "    n_samples = S.shape[-1]\n",
    "    def expected_dist(diff, beta):\n",
    "        return K.sum(K.pow(K.sqrt(K.square(diff)+K.epsilon()), beta),axis=-1) #axis = -1: last dimension <=> N_SAMPLES\n",
    "    es_1 = expected_dist(y_true - S, beta)\n",
    "    es_2 = 0\n",
    "    for i in range(n_samples):\n",
    "        es_2 = es_2 + expected_dist(K.expand_dims(S[:,i]) - S, beta)\n",
    "    return es_1/n_samples - es_2/(2*n_samples**2)\n",
    "\n",
    "class CRPSLoss(Loss):\n",
    "    def call(self, y_true, S):\n",
    "        return crps(y_true, S)"
   ]
  },
  {
   "cell_type": "markdown",
   "metadata": {},
   "source": [
    "### Data preparation for the Neural Net"
   ]
  },
  {
   "cell_type": "code",
   "execution_count": 5,
   "metadata": {},
   "outputs": [
    {
     "name": "stdout",
     "output_type": "stream",
     "text": [
      "(first, last) train month: (121,329)\n",
      "(first, last) validate month: (330,418)\n",
      "(first, last) test month: (419,454)\n",
      "train + valid + test = 334 != 334\n",
      "\n",
      "# rolling w train: 160      # rolling w validate: 40\n"
     ]
    }
   ],
   "source": [
    "import math\n",
    "from sklearn import model_selection, preprocessing\n",
    "### function used to calculate w_max, number of rolling windows etc.\n",
    "# length of a whole window (containing w input months and 12 acutal months)\n",
    "def rollingWindowLength(w):\n",
    "    return w + 2 + 12\n",
    "\n",
    "def number_valid_months(numberMonths_available, w, relative_validation_size):\n",
    "    rollingWindowlen = rollingWindowLength(w)\n",
    "\n",
    "    number_train_valid_months = numberMonths_available - w\n",
    "    number_valid_months = math.floor(number_train_valid_months * relative_validation_size)\n",
    "\n",
    "    return number_valid_months\n",
    "\n",
    "# number of months available for training (after removing the validation and test months)\n",
    "def number_train_months(numberMonths_available, w, relative_validation_size):\n",
    "    rollingWindowlen = rollingWindowLength(w)\n",
    "    \n",
    "    valid_months = number_valid_months(numberMonths_available, w, relative_validation_size)\n",
    "\n",
    "    #  all months feature data     validate set          test set input\n",
    "    return numberMonths_available - valid_months - w\n",
    "\n",
    "\n",
    "def number_rolling_windows(numberMonths_available, w):\n",
    "    return max(0,numberMonths_available - rollingWindowLength(w) + 1)\n",
    "\n",
    "\"\"\" # number of training samples (rolling windows)\n",
    "def number_train_samples(numberMonths_available, w, relative_validation_size):\n",
    "    rollingWindowlen = rollingWindowLength(w)\n",
    "    return number_train_months(numberMonths_available, w, relative_validation_size) - rollingWindowlen \"\"\"\n",
    "\n",
    "\"\"\" # calculate the w_max ( 0 < w_max < 49), so that there are \"numberSamples_required\" rolling windows\n",
    "def get_maximal_w(numberSamples_required, numberMonths_available, relative_validation_size):\n",
    "\n",
    "    w_max = 1\n",
    "\n",
    "    if number_train_samples(numberMonths_available, w_max, relative_validation_size) < numberSamples_required:\n",
    "        raise ValueError('not enough months for ' + str(numberSamples_required) + ' required samples')\n",
    "         \n",
    "\n",
    "    sampleSize = number_train_samples(numberMonths_available, w_max, relative_validation_size)\n",
    "\n",
    "    while sampleSize > numberSamples_required:\n",
    "        w_max += 1\n",
    "        sampleSize = number_train_samples(numberMonths_available, w_max, relative_validation_size)\n",
    "\n",
    "    return w_max \"\"\"\n",
    "\n",
    "\n",
    "### prediction task for year 2018\n",
    "prediction_year = '2018'\n",
    "dataset_index = actual_years.index(prediction_year)\n",
    "s = 3 # month to predict\n",
    "\n",
    "rel_validation_size = 0.3 # percentual size of the validation set\n",
    "\n",
    "# the maximal w (months to estimate the fatalities from) is set to e.g. 3 years (36 months) \n",
    "w_max = 36\n",
    "\"\"\"  diese HERANGEHENSWEISE funktioniert so nicht für länder mit wenig monaten...!!!!!!!!!!!!!!!!!!!!!!!!!!!!!!!!!!!!!!!!!!!!!!!!!!!!!!!!! \"\"\"\n",
    "\"\"\" # For years that have less number of months, not the samplesize (=number of rolling windows), but the w_max is reduced, so that\n",
    "# the number of samples for the prediction stays the same:\n",
    "# the reference for the minimal samplesize (=number of rolling windows) with the biggest w_max is the number of\n",
    "# possible rolling windows for a country, that has all months of observartions, starting from 1991 to oct of the\n",
    "# year before the prediction year.\n",
    "number_req_samples = number_train_samples(number_months_feature_data, w_max, rel_validation_size)\n",
    "print('required samples: ' + str(number_req_samples)) \"\"\"\n",
    "\n",
    "\n",
    "## country 223\n",
    "prediction_country_id = 223\n",
    "w = 36\n",
    "\n",
    "# check if the last month of the country in the feature dataset is 3 months before the first month that has to be predicted\n",
    "if not check_last_featureMonth(prediction_country_id, dataset_index):\n",
    "    raise ValueError('last month is not contained in the data')\n",
    "\n",
    "## load datasets\n",
    "feature_data = country_feature_group_list[dataset_index].get_group(prediction_country_id)\n",
    "actual_data = country_actual_group_list[dataset_index].get_group(prediction_country_id)\n",
    "\n",
    "# numbers of months from the feature dataset\n",
    "month_list_feature_data = feature_data.index.get_level_values('month_id').tolist()\n",
    "first_month = min(month_list_feature_data)\n",
    "last_month = max(month_list_feature_data)\n",
    "number_months_feature_data = len(month_list_feature_data) # number of months in the feature dataset\n",
    "\n",
    "\n",
    "### split data in train-, validation- and test-dataset\n",
    "\"\"\" The data sizes are calculated in a way, that missing months are no problem. Additionaly due to the fact, that the data is sorted\n",
    "    regarding months, this step can be skipped. \"\"\"\n",
    "\n",
    "\n",
    "\n",
    "\"\"\" # calculate the w_max so that there are \"required_samples\" rolling windows for the prediction\n",
    "w_max = get_maximal_w(number_req_samples, number_months_feature_data, rel_validation_size) \"\"\"\n",
    "\n",
    "#----------------------------------------------\n",
    "\"\"\" \n",
    "    LIST MIT ALLEN LÄNDER ERSTELLEN, DIE W_MAX = x HABEN (also alle Monate verfügbar sind),\n",
    "    um bei diesen Einfluss der Windowgröße auf das Schätzergebnis zu ermitteln\n",
    "\n",
    " \"\"\"\n",
    "\n",
    "# length of the maximum rolling window and the used \"unreal\" acutals starting 3 months after the last used month\n",
    "roll_window_len = rollingWindowLength(w)\n",
    "n_train_months = number_train_months(number_months_feature_data, w, rel_validation_size)\n",
    "n_valid_months = number_valid_months(number_months_feature_data, w, rel_validation_size)\n",
    "n_test_months = w\n",
    "\n",
    "month_list_train = month_list_feature_data[0:n_train_months]\n",
    "month_list_valid = month_list_feature_data[n_train_months:(n_train_months+n_valid_months)]\n",
    "month_list_test = month_list_feature_data[number_months_feature_data-n_test_months:]\n",
    "\n",
    "## training dataset------\n",
    "X_train = []\n",
    "Y_train = []\n",
    "\n",
    "number_rolling_windows_train = number_rolling_windows(n_train_months, w)\n",
    "\n",
    "for i in range(0, number_rolling_windows_train):\n",
    "    starting_month_features = month_list_train[i]\n",
    "\n",
    "    index_ending_month_features = i + w - 1\n",
    "    ending_month_features = month_list_train[index_ending_month_features]\n",
    "\n",
    "    starting_month_unrActuals = month_list_train[index_ending_month_features + 3]\n",
    "    ending_month_unrActuals = month_list_train[index_ending_month_features + 14]\n",
    "\n",
    "    window_features = feature_data.loc[slice(starting_month_features, ending_month_features), 'ged_sb':'ged_sb_tlag_4'] # excluding \"unreal\" actuals\n",
    "    window_actuals = feature_data.loc[slice(starting_month_unrActuals, ending_month_unrActuals), 'ged_sb'].iloc[s - 3] # \"unreal\" actuals\n",
    "\n",
    "\n",
    "    normalized_window_features = preprocessing.normalize(window_features)\n",
    "    window_features_array = np.array([normalized_window_features.flatten()])[0]\n",
    "\n",
    "    window_actual_array = np.array([window_actuals])\n",
    "\n",
    "    X_train.append(window_features_array)\n",
    "    Y_train.append(window_actual_array)\n",
    "\n",
    "X_train = np.array(X_train)\n",
    "Y_train = np.array(Y_train)\n",
    "\n",
    "\n",
    "\n",
    "## validation dataset--------\n",
    "X_validate = []\n",
    "Y_validate = []\n",
    "\n",
    "number_rolling_windows_validate = number_rolling_windows(n_valid_months, w)\n",
    "\n",
    "for i in range(0, number_rolling_windows_validate):\n",
    "    starting_month_features = month_list_valid[i]\n",
    "\n",
    "    index_ending_month_features = i + w - 1\n",
    "    ending_month_features = month_list_valid[index_ending_month_features]\n",
    "\n",
    "    starting_month_unrActuals = month_list_valid[index_ending_month_features + 3]\n",
    "    ending_month_unrActuals = month_list_valid[index_ending_month_features + 14]\n",
    "\n",
    "    window_features = feature_data.loc[slice(starting_month_features, ending_month_features), 'ged_sb':'ged_sb_tlag_4'] # excluding \"unreal\" actuals\n",
    "    window_actuals = feature_data.loc[slice(starting_month_unrActuals, ending_month_unrActuals), 'ged_sb'].iloc[s - 3] # \"unreal\" actuals\n",
    "\n",
    "\n",
    "    normalized_window_features = preprocessing.normalize(window_features)\n",
    "    window_features_array = np.array([normalized_window_features.flatten()])[0]\n",
    "\n",
    "    window_actual_array = np.array([window_actuals])\n",
    "\n",
    "    X_validate.append(window_features_array)\n",
    "    Y_validate.append(window_actual_array)\n",
    "\n",
    "X_validate = np.array(X_validate)\n",
    "Y_validate = np.array(Y_validate)\n",
    "\n",
    "## test dataset-------\n",
    "X_test = []\n",
    "Y_test = []\n",
    "\n",
    "starting_month_test = month_list_test[0]\n",
    "ending_month_test = month_list_test[-1]\n",
    "\n",
    "window_features_test = feature_data.loc[slice(starting_month_test, ending_month_test), 'ged_sb':'ged_sb_tlag_4'] # excluding \"unreal\" actuals\n",
    "window_actuals_test = actual_data.iloc[s - 3].values # \"unreal\" actuals\n",
    "\n",
    "normalized_window_features_test = preprocessing.normalize(window_features_test)\n",
    "window_features_array_test = np.array([normalized_window_features_test.flatten()])[0]\n",
    "\n",
    "window_actual_array_test = window_actuals_test\n",
    "\n",
    "X_test.append(window_features_array_test)\n",
    "Y_test.append(window_actual_array_test)\n",
    "\n",
    "X_test = np.array(X_test)\n",
    "Y_test = np.array(Y_test)\n",
    "\n",
    "\n",
    "print('(first, last) train month: (' + str(month_list_train[0])+','+str(month_list_train[-1])+')')\n",
    "print('(first, last) validate month: (' + str(month_list_valid[0])+','+str(month_list_valid[-1])+')')\n",
    "print('(first, last) test month: (' + str(month_list_test[0])+','+str(month_list_test[-1])+')')\n",
    "print('train + valid + test = ' + str(n_train_months + n_valid_months +n_test_months) + ' != ' + str(number_months_feature_data))\n",
    "\n",
    "\n",
    "print('')\n",
    "print('# rolling w train: ' + str(number_rolling_windows_train) + '      # rolling w validate: ' + str(number_rolling_windows_validate))\n"
   ]
  },
  {
   "cell_type": "code",
   "execution_count": 6,
   "metadata": {},
   "outputs": [
    {
     "data": {
      "text/plain": [
       "432"
      ]
     },
     "execution_count": 6,
     "metadata": {},
     "output_type": "execute_result"
    }
   ],
   "source": [
    "len(X_test[0])"
   ]
  },
  {
   "attachments": {
    "train_split.png": {
     "image/png": "[encoded data removed]"
    }
   },
   "cell_type": "markdown",
   "metadata": {},
   "source": [
    "![train_split.png](attachment:train_split.png)"
   ]
  },
  {
   "cell_type": "markdown",
   "metadata": {},
   "source": [
    "### Rolling window split for the current windowlength w\n",
    "As shown in the picture above, the training dataset is genereated via a rolling window approach.\n",
    "**One sample contains:**\n",
    "*  features of w months, concatenated to one vector with the dimension *w * number_of_features*\n",
    "*  one true observation, dependent of the current s that is estimated in the NN, e.g. y_true = s3 = 54.\n",
    "\n",
    "So one entire training sample for a w contains a different amount of samples, dependent from the windowlength and the available number of observations of the country."
   ]
  },
  {
   "cell_type": "code",
   "execution_count": 7,
   "metadata": {},
   "outputs": [
    {
     "name": "stdout",
     "output_type": "stream",
     "text": [
      "Model: \"simple_NN_empirical\"\n",
      "_________________________________________________________________\n",
      " Layer (type)                Output Shape              Param #   \n",
      "=================================================================\n",
      " input_1 (InputLayer)        [(None, 432)]             0         \n",
      "                                                                 \n",
      " dense (Dense)               (None, 20)                8660      \n",
      "                                                                 \n",
      " dense_1 (Dense)             (None, 200)               4200      \n",
      "                                                                 \n",
      " lambda (Lambda)             (None, 200)               0         \n",
      "                                                                 \n",
      "=================================================================\n",
      "Total params: 12860 (50.23 KB)\n",
      "Trainable params: 12860 (50.23 KB)\n",
      "Non-trainable params: 0 (0.00 Byte)\n",
      "_________________________________________________________________\n"
     ]
    }
   ],
   "source": [
    "import tensorflow as tf\n",
    "from tensorflow.keras.layers import Input, Dense, Lambda\n",
    "from tensorflow.keras.models import Model\n",
    "import tensorflow_probability as tfp\n",
    "tfd = tfp.distributions\n",
    "tf.compat.v2.enable_v2_behavior()\n",
    "from tensorflow.keras.utils import plot_model\n",
    "from tensorflow.keras.optimizers import Adam\n",
    "\n",
    "\n",
    "from scipy.stats import nbinom\n",
    "\n",
    "# Funktion für die ReLU-Transformation\n",
    "def relu_transform(x):\n",
    "    return tf.nn.relu(x)\n",
    "\n",
    "\n",
    "## hyperparameters\n",
    "batchSize = 1 # defines the number of samples to work through before \n",
    "# updating the internal model parameters (sample = (1 inputvector, 1 y_true))\n",
    "epochSize = 2 # defines the number times that the learning algorithm will work through the entire training dataset\n",
    "# -> line plots that show epochs along the x-axis as time and the error or skill of the model on the y-axis (= learning curve)\n",
    "learningRate = 0.001\n",
    "\n",
    "\n",
    "input_shape = (len(X_train[0]),) # Number of used features   10 * 32\n",
    "# z.B.\n",
    "\"\"\" [\n",
    "  [1, 2, 3, ..., 10],   # Datenpunkt 1 mit 10 features\n",
    "  [11, 12, 13, ..., 20],  # Datenpunkt 2 mit 10 features\n",
    "  ...\n",
    "  [311, 312, 313, ..., 320]  # Datenpunkt 32 mit 10 features\n",
    "] \"\"\"\n",
    "\n",
    "\n",
    "# Define inputs with predefined shape\n",
    "inputs = Input(shape=input_shape)\n",
    "\n",
    "# print(inputs.shape) -> (None, 10, 32) no Batch size defined (more flexible)\n",
    "\n",
    "hidden_layer1 = Dense(20, activation='relu')(inputs) \n",
    "# Dense Layer: the 10 neurons in the dense layer get their source of input data \n",
    "# from all the other neurons of the previous layer of the network (= fully connected layer)\n",
    "#hidden_layer2 = Dense(8, activation='relu')(hidden_layer1) \n",
    "\n",
    "#\n",
    "output_s3 = Dense(200)(hidden_layer1)\n",
    "sample_output_s3 = Lambda(relu_transform)(output_s3)\n",
    "\n",
    "# Construct model\n",
    "model = Model(inputs=inputs, outputs=sample_output_s3, name = 'simple_NN_empirical')\n",
    "\n",
    "# Compile the model with the desired optimizer, loss function, etc.\n",
    "model.compile(optimizer=Adam(learning_rate=learningRate), loss=CRPSLoss())\n",
    "\n",
    "\n",
    "# Print model summary\n",
    "model.summary()"
   ]
  },
  {
   "cell_type": "code",
   "execution_count": 8,
   "metadata": {},
   "outputs": [
    {
     "name": "stdout",
     "output_type": "stream",
     "text": [
      "Epoch 1/2\n",
      "160/160 [==============================] - 32s 40ms/step - loss: 119.8433 - val_loss: 31.4392\n",
      "Epoch 2/2\n",
      "160/160 [==============================] - 1s 7ms/step - loss: 96.4611 - val_loss: 16.6284\n",
      "1/1 - 5s - loss: 15.0851 - 5s/epoch - 5s/step\n",
      "Test loss: 15.085064888000488\n"
     ]
    }
   ],
   "source": [
    "history = model.fit(X_train, Y_train, \n",
    "                    batch_size=batchSize, epochs=epochSize,\n",
    "                    validation_data=(X_validate, Y_validate))\n",
    "\n",
    "test_scores = model.evaluate(X_test, Y_test, verbose=2)\n",
    "print(\"Test loss:\", test_scores)"
   ]
  },
  {
   "cell_type": "code",
   "execution_count": 9,
   "metadata": {},
   "outputs": [
    {
     "data": {
      "text/plain": [
       "{'loss': [119.84332275390625, 96.4610595703125],\n",
       " 'val_loss': [31.4392032623291, 16.628398895263672]}"
      ]
     },
     "execution_count": 9,
     "metadata": {},
     "output_type": "execute_result"
    }
   ],
   "source": [
    "history.history"
   ]
  },
  {
   "cell_type": "code",
   "execution_count": 11,
   "metadata": {},
   "outputs": [
    {
     "name": "stdout",
     "output_type": "stream",
     "text": [
      "Evaluate on test data\n",
      "1/1 [==============================] - 0s 54ms/step - loss: 15.0851\n",
      "test loss, test acc: 15.085060119628906\n",
      "Generate prediction\n",
      "1/1 [==============================] - 0s 50ms/step\n",
      "predictions shape: (1, 200)\n"
     ]
    }
   ],
   "source": [
    "# Evaluate the model on the test data using `evaluate`\n",
    "print(\"Evaluate on test data\")\n",
    "results = model.evaluate(X_test, Y_test, batch_size=1)\n",
    "print(\"test loss, test acc:\", results)\n",
    "\n",
    "# Generate predictions (probabilities -- the output of the last layer)\n",
    "# on new data using `predict`\n",
    "print(\"Generate prediction\")\n",
    "prediction = model.predict(X_test)\n",
    "print(\"predictions shape:\", prediction.shape)"
   ]
  },
  {
   "cell_type": "code",
   "execution_count": 12,
   "metadata": {},
   "outputs": [
    {
     "data": {
      "text/plain": [
       "array([ 0,  0,  0,  0,  0,  0,  0,  0,  0,  0,  0,  0,  0,  0,  0,  0,  0,\n",
       "        0,  0,  0,  0,  0,  0,  0,  0,  0,  0,  0,  0,  0,  0,  0,  0,  0,\n",
       "        0,  0,  0,  0,  0,  0,  0,  0,  0,  0,  0,  0,  0,  0,  0,  0,  0,\n",
       "        0,  0,  0,  0,  0,  0,  0,  0,  0,  0,  0,  0,  0,  0,  0,  0,  0,\n",
       "        0,  0,  0,  0,  0,  0,  0,  0,  0,  0,  0,  0,  0,  0,  0,  0,  0,\n",
       "        0,  0,  0,  0,  0,  0,  0,  0, 19, 51, 52, 53, 53, 54, 54, 54, 54,\n",
       "       55, 55, 55, 56, 56, 56, 56, 56, 56, 56, 57, 57, 57, 57, 58, 58, 58,\n",
       "       58, 58, 58, 58, 58, 59, 59, 59, 59, 59, 59, 59, 59, 59, 59, 59, 60,\n",
       "       60, 60, 60, 60, 60, 60, 60, 60, 60, 61, 61, 61, 61, 61, 61, 61, 61,\n",
       "       61, 61, 61, 61, 61, 61, 62, 62, 62, 62, 62, 62, 62, 62, 62, 62, 63,\n",
       "       63, 63, 63, 63, 63, 63, 63, 63, 63, 63, 63, 64, 64, 64, 64, 64, 64,\n",
       "       64, 65, 65, 65, 65, 65, 65, 66, 66, 66, 67, 68, 69])"
      ]
     },
     "execution_count": 12,
     "metadata": {},
     "output_type": "execute_result"
    }
   ],
   "source": [
    "empirical_distribution = np.round(np.sort(prediction[0])).astype(int)\n",
    "empirical_distribution"
   ]
  },
  {
   "cell_type": "code",
   "execution_count": 13,
   "metadata": {},
   "outputs": [
    {
     "name": "stdout",
     "output_type": "stream",
     "text": [
      "CRPS = 15.094499999999996\n"
     ]
    }
   ],
   "source": [
    "y_true = Y_test[0][0]\n",
    "crps = pscore(empirical_distribution,y_true).compute()[0]\n",
    "print('CRPS = ' + str(crps))"
   ]
  },
  {
   "cell_type": "code",
   "execution_count": 14,
   "metadata": {},
   "outputs": [
    {
     "data": {
      "image/png": "[encoded data removed]",
      "text/plain": [
       "<Figure size 640x480 with 1 Axes>"
      ]
     },
     "metadata": {},
     "output_type": "display_data"
    }
   ],
   "source": [
    "import matplotlib.pyplot as plt\n",
    "# Die X-Werte sind die Indizes des Arrays (von 0 bis zur Länge des Arrays)\n",
    "x = np.arange(len(empirical_distribution))\n",
    "\n",
    "# Plot erstellen\n",
    "plt.plot(x, empirical_distribution, marker='o', linestyle='-')\n",
    "plt.xlabel('X-Werte')\n",
    "plt.ylabel('Empirische Verteilung')\n",
    "plt.title('Empirische Verteilung')\n",
    "plt.grid(True)\n",
    "plt.show()"
   ]
  },
  {
   "cell_type": "code",
   "execution_count": null,
   "metadata": {},
   "outputs": [],
   "source": []
  }
 ],
 "metadata": {
  "kernelspec": {
   "display_name": "Python 3",
   "language": "python",
   "name": "python3"
  },
  "language_info": {
   "codemirror_mode": {
    "name": "ipython",
    "version": 3
   },
   "file_extension": ".py",
   "mimetype": "text/x-python",
   "name": "python",
   "nbconvert_exporter": "python",
   "pygments_lexer": "ipython3",
   "version": "3.10.11"
  },
  "orig_nbformat": 4
 },
 "nbformat": 4,
 "nbformat_minor": 2
}
