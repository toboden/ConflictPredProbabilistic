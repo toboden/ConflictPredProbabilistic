{
 "cells": [
  {
   "cell_type": "code",
   "execution_count": 1,
   "metadata": {},
   "outputs": [
    {
     "name": "stdout",
     "output_type": "stream",
     "text": [
      "Your browser has been opened to visit:\n",
      "\n",
      "    https://accounts.google.com/o/oauth2/auth?client_id=321500233393-ahv46chgvvbqo97cdiuauvgj6f6osdrf.apps.googleusercontent.com&redirect_uri=http%3A%2F%2Flocalhost%3A8080%2F&scope=https%3A%2F%2Fwww.googleapis.com%2Fauth%2Fdrive&access_type=offline&response_type=code\n",
      "\n",
      "Authentication successful.\n"
     ]
    }
   ],
   "source": [
    "import pyarrow.parquet as pq\n",
    "from pydrive.auth import GoogleAuth\n",
    "from pydrive.drive import GoogleDrive\n",
    "from oauth2client.client import GoogleCredentials\n",
    "from joblib import dump, load\n",
    "\n",
    "# Authenticate and create the PyDrive client.\n",
    "gauth = GoogleAuth()\n",
    "gauth.LocalWebserverAuth()  # Öffnet einen Webbrowser für die Authentifizierung\n",
    "drive = GoogleDrive(gauth)\n",
    "\n",
    "data_folder_id = '1RigGnEyyNGnO_SPBSc_RwO9jjdbnPTAV'\n",
    "result_folder_id = '1CNBTHtBOTFXh01WUpP2EF1aEmDi0rSyg'  \n",
    "\n",
    "variable = 'hallo hallo Tobias'\n",
    "\n",
    "# Variablen in Joblib-Dateien speichern\n",
    "dump([variable], 'test.joblib')\n",
    "\n",
    "# Dateien hochladen\n",
    "file1 = drive.CreateFile({'parents': [{'id': result_folder_id}]})\n",
    "file1.SetContentFile('test.joblib')\n",
    "file1.Upload()\n"
   ]
  },
  {
   "cell_type": "code",
   "execution_count": null,
   "metadata": {},
   "outputs": [],
   "source": []
  }
 ],
 "metadata": {
  "kernelspec": {
   "display_name": "Python 3",
   "language": "python",
   "name": "python3"
  },
  "language_info": {
   "codemirror_mode": {
    "name": "ipython",
    "version": 3
   },
   "file_extension": ".py",
   "mimetype": "text/x-python",
   "name": "python",
   "nbconvert_exporter": "python",
   "pygments_lexer": "ipython3",
   "version": "3.11.1"
  },
  "orig_nbformat": 4
 },
 "nbformat": 4,
 "nbformat_minor": 2
}
