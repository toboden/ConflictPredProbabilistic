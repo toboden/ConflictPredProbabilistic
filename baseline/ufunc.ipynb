{
 "cells": [
  {
   "cell_type": "code",
   "execution_count": 1,
   "metadata": {},
   "outputs": [],
   "source": [
    "from scipy.stats._boost.nbinom_ufunc import (\n",
    "    _nbinom_pdf, _nbinom_cdf, _nbinom_sf, _nbinom_ppf,\n",
    "    _nbinom_isf, _nbinom_mean, _nbinom_variance,\n",
    "    _nbinom_skewness, _nbinom_kurtosis_excess,\n",
    ")"
   ]
  },
  {
   "cell_type": "code",
   "execution_count": 9,
   "metadata": {},
   "outputs": [
    {
     "name": "stdout",
     "output_type": "stream",
     "text": [
      "c:\\Users\\Tobias\\AppData\\Local\\Programs\\Python\\Python311\\Lib\\site-packages\\scipy\\stats\\_boost\\nbinom_ufunc.cp311-win_amd64.pyd\n"
     ]
    }
   ],
   "source": [
    "import inspect\n",
    "import scipy\n",
    "\n",
    "print(inspect.getfile(scipy.stats._boost.nbinom_ufunc))"
   ]
  },
  {
   "cell_type": "code",
   "execution_count": 11,
   "metadata": {},
   "outputs": [],
   "source": [
    "import dis\n",
    "dis.dis(scipy.stats._boost.nbinom_ufunc)"
   ]
  },
  {
   "cell_type": "code",
   "execution_count": 22,
   "metadata": {},
   "outputs": [
    {
     "name": "stdout",
     "output_type": "stream",
     "text": [
      "Help on module scipy.stats._boost.nbinom_ufunc in scipy.stats._boost:\n",
      "\n",
      "NAME\n",
      "    scipy.stats._boost.nbinom_ufunc\n",
      "\n",
      "DATA\n",
      "    __test__ = {}\n",
      "\n",
      "FILE\n",
      "    c:\\users\\tobias\\appdata\\local\\programs\\python\\python311\\lib\\site-packages\\scipy\\stats\\_boost\\nbinom_ufunc.cp311-win_amd64.pyd\n",
      "\n",
      "\n"
     ]
    }
   ],
   "source": [
    "import scipy.stats._boost.nbinom_ufunc as mtmp\n",
    "help(mtmp)"
   ]
  },
  {
   "cell_type": "code",
   "execution_count": null,
   "metadata": {},
   "outputs": [],
   "source": []
  }
 ],
 "metadata": {
  "kernelspec": {
   "display_name": "Python 3",
   "language": "python",
   "name": "python3"
  },
  "language_info": {
   "codemirror_mode": {
    "name": "ipython",
    "version": 3
   },
   "file_extension": ".py",
   "mimetype": "text/x-python",
   "name": "python",
   "nbconvert_exporter": "python",
   "pygments_lexer": "ipython3",
   "version": "3.11.1"
  },
  "orig_nbformat": 4
 },
 "nbformat": 4,
 "nbformat_minor": 2
}
