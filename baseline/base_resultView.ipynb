{
 "cells": [
  {
   "attachments": {},
   "cell_type": "markdown",
   "metadata": {},
   "source": [
    "### File import"
   ]
  },
  {
   "cell_type": "code",
   "execution_count": 25,
   "metadata": {},
   "outputs": [
    {
     "name": "stdout",
     "output_type": "stream",
     "text": [
      "NBinom Overall CRPS last 5 countries, max. w = 6\n",
      "baseline 1: 4.8521\n",
      "baseline 2: 4.9987\n",
      "baseline 3: 4.8521\n",
      "baseline 4: 4.9842\n"
     ]
    }
   ],
   "source": [
    "import os\n",
    "from joblib import load\n",
    "import numpy as np\n",
    "\n",
    "user_dir = os.path.expanduser('~')\n",
    "file_path = os.path.join(user_dir, 'iCloudDrive\\Joblib BA', 'task2_baseline_predict_varsNbinom5.joblib')\n",
    "loaded_vars_baseline = load(file_path)\n",
    "\n",
    "task2_baseline_list = loaded_vars_baseline[0]\n",
    "w_minimization_list = loaded_vars_baseline[1]\n",
    "baseline_prediction_list = loaded_vars_baseline[2]\n",
    "baseline1_average_crps = loaded_vars_baseline[3]\n",
    "baseline2_average_crps = loaded_vars_baseline[4]\n",
    "baseline3_average_crps = loaded_vars_baseline[5]\n",
    "baseline4_average_crps = loaded_vars_baseline[6]\n",
    "\n",
    "print('NBinom Overall CRPS last 5 countries, max. w = 6')\n",
    "print('baseline 1: ' + str(np.round(baseline1_average_crps, decimals = 4)))\n",
    "print('baseline 2: ' + str(np.round(baseline2_average_crps, decimals = 4)))\n",
    "print('baseline 3: ' + str(np.round(baseline3_average_crps, decimals = 4)))\n",
    "print('baseline 4: ' + str(np.round(baseline4_average_crps, decimals = 4)))"
   ]
  },
  {
   "cell_type": "code",
   "execution_count": 21,
   "metadata": {},
   "outputs": [
    {
     "name": "stdout",
     "output_type": "stream",
     "text": [
      "Hurdle Overall CRPS last 5 countries, max. w = 6\n",
      "baseline 1: 5.5929\n",
      "baseline 2: 5.1314\n",
      "baseline 3: 5.5941\n",
      "baseline 4: 5.0706\n"
     ]
    }
   ],
   "source": [
    "file_path = os.path.join(user_dir, 'iCloudDrive\\Joblib BA', 'task2_baseline_predict_varsHurdle5.joblib')\n",
    "loaded_vars_baseline = load(file_path)\n",
    "\n",
    "task2_baseline_list = loaded_vars_baseline[0]\n",
    "w_minimization_list = loaded_vars_baseline[1]\n",
    "baseline_prediction_list = loaded_vars_baseline[2]\n",
    "baseline1_average_crps = loaded_vars_baseline[3]\n",
    "baseline2_average_crps = loaded_vars_baseline[4]\n",
    "baseline3_average_crps = loaded_vars_baseline[5]\n",
    "baseline4_average_crps = loaded_vars_baseline[6]\n",
    "\n",
    "print('Hurdle Overall CRPS last 5 countries, max. w = 6')\n",
    "print('baseline 1: ' + str(np.round(baseline1_average_crps, decimals = 4)))\n",
    "print('baseline 2: ' + str(np.round(baseline2_average_crps, decimals = 4)))\n",
    "print('baseline 3: ' + str(np.round(baseline3_average_crps, decimals = 4)))\n",
    "print('baseline 4: ' + str(np.round(baseline4_average_crps, decimals = 4)))"
   ]
  },
  {
   "cell_type": "code",
   "execution_count": 30,
   "metadata": {},
   "outputs": [
    {
     "data": {
      "text/html": [
       "<div>\n",
       "<style scoped>\n",
       "    .dataframe tbody tr th:only-of-type {\n",
       "        vertical-align: middle;\n",
       "    }\n",
       "\n",
       "    .dataframe tbody tr th {\n",
       "        vertical-align: top;\n",
       "    }\n",
       "\n",
       "    .dataframe thead th {\n",
       "        text-align: right;\n",
       "    }\n",
       "</style>\n",
       "<table border=\"1\" class=\"dataframe\">\n",
       "  <thead>\n",
       "    <tr style=\"text-align: right;\">\n",
       "      <th></th>\n",
       "      <th>country_id</th>\n",
       "      <th>w</th>\n",
       "      <th>CRPS</th>\n",
       "    </tr>\n",
       "  </thead>\n",
       "  <tbody>\n",
       "    <tr>\n",
       "      <th>0</th>\n",
       "      <td>242</td>\n",
       "      <td>2</td>\n",
       "      <td>0.000000</td>\n",
       "    </tr>\n",
       "    <tr>\n",
       "      <th>1</th>\n",
       "      <td>243</td>\n",
       "      <td>2</td>\n",
       "      <td>0.000000</td>\n",
       "    </tr>\n",
       "    <tr>\n",
       "      <th>2</th>\n",
       "      <td>244</td>\n",
       "      <td>2</td>\n",
       "      <td>0.000000</td>\n",
       "    </tr>\n",
       "    <tr>\n",
       "      <th>3</th>\n",
       "      <td>245</td>\n",
       "      <td>36</td>\n",
       "      <td>36.575990</td>\n",
       "    </tr>\n",
       "    <tr>\n",
       "      <th>4</th>\n",
       "      <td>246</td>\n",
       "      <td>23</td>\n",
       "      <td>45.362596</td>\n",
       "    </tr>\n",
       "  </tbody>\n",
       "</table>\n",
       "</div>"
      ],
      "text/plain": [
       "   country_id   w       CRPS\n",
       "0         242   2   0.000000\n",
       "1         243   2   0.000000\n",
       "2         244   2   0.000000\n",
       "3         245  36  36.575990\n",
       "4         246  23  45.362596"
      ]
     },
     "execution_count": 30,
     "metadata": {},
     "output_type": "execute_result"
    }
   ],
   "source": [
    "w_minimization_list[0]['minWData'][1]"
   ]
  },
  {
   "cell_type": "code",
   "execution_count": 27,
   "metadata": {},
   "outputs": [
    {
     "name": "stdout",
     "output_type": "stream",
     "text": [
      "NBinom Overall CRPS last 5 countries, max. w = 36\n",
      "baseline 1: 5.6679\n",
      "baseline 2: 5.9649\n",
      "baseline 3: 5.6918\n",
      "baseline 4: 5.6883\n"
     ]
    }
   ],
   "source": [
    "file_path = os.path.join(user_dir, 'iCloudDrive\\Joblib BA', 'task2_baseline_predict_varsNbinom5w36.joblib')\n",
    "loaded_vars_baseline = load(file_path)\n",
    "\n",
    "task2_baseline_list = loaded_vars_baseline[0]\n",
    "w_minimization_list = loaded_vars_baseline[1]\n",
    "baseline_prediction_list = loaded_vars_baseline[2]\n",
    "baseline1_average_crps = loaded_vars_baseline[3]\n",
    "baseline2_average_crps = loaded_vars_baseline[4]\n",
    "baseline3_average_crps = loaded_vars_baseline[5]\n",
    "baseline4_average_crps = loaded_vars_baseline[6]\n",
    "\n",
    "print('NBinom Overall CRPS last 5 countries, max. w = 36')\n",
    "print('baseline 1: ' + str(np.round(baseline1_average_crps, decimals = 4)))\n",
    "print('baseline 2: ' + str(np.round(baseline2_average_crps, decimals = 4)))\n",
    "print('baseline 3: ' + str(np.round(baseline3_average_crps, decimals = 4)))\n",
    "print('baseline 4: ' + str(np.round(baseline4_average_crps, decimals = 4)))"
   ]
  },
  {
   "cell_type": "code",
   "execution_count": 29,
   "metadata": {},
   "outputs": [
    {
     "name": "stdout",
     "output_type": "stream",
     "text": [
      "Hurdle Overall CRPS last 5 countries, max. w = 36\n",
      "baseline 1: 6.048\n",
      "baseline 2: 5.4772\n",
      "baseline 3: 6.0623\n",
      "baseline 4: 5.4591\n"
     ]
    }
   ],
   "source": [
    "file_path = os.path.join(user_dir, 'iCloudDrive\\Joblib BA', 'task2_baseline_predict_varsHurdle5w36.joblib')\n",
    "loaded_vars_baseline = load(file_path)\n",
    "\n",
    "task2_baseline_list = loaded_vars_baseline[0]\n",
    "w_minimization_list = loaded_vars_baseline[1]\n",
    "baseline_prediction_list = loaded_vars_baseline[2]\n",
    "baseline1_average_crps = loaded_vars_baseline[3]\n",
    "baseline2_average_crps = loaded_vars_baseline[4]\n",
    "baseline3_average_crps = loaded_vars_baseline[5]\n",
    "baseline4_average_crps = loaded_vars_baseline[6]\n",
    "\n",
    "print('Hurdle Overall CRPS last 5 countries, max. w = 36')\n",
    "print('baseline 1: ' + str(np.round(baseline1_average_crps, decimals = 4)))\n",
    "print('baseline 2: ' + str(np.round(baseline2_average_crps, decimals = 4)))\n",
    "print('baseline 3: ' + str(np.round(baseline3_average_crps, decimals = 4)))\n",
    "print('baseline 4: ' + str(np.round(baseline4_average_crps, decimals = 4)))"
   ]
  },
  {
   "attachments": {},
   "cell_type": "markdown",
   "metadata": {},
   "source": [
    "### Variables in loaded_vars_baseline\n",
    "* country_list (*includes all countries for which forecasts were made*)\n",
    "* baseline_estimate_list \n",
    "* task2_baseline_list\n",
    "* w_minimization_list\n",
    "* baseline_prediction_list\n",
    "* baseline1_average_crps - baseline4_average_crps"
   ]
  },
  {
   "cell_type": "code",
   "execution_count": null,
   "metadata": {},
   "outputs": [],
   "source": [
    "\"\"\" #                     w                        country         rollingWindow|predicton/actuals\n",
    "baseline_estimate_list[0]['country_predict_list'][0]['predictionWindowsN'][11][0] \"\"\""
   ]
  },
  {
   "cell_type": "code",
   "execution_count": null,
   "metadata": {},
   "outputs": [],
   "source": [
    "#                dataset/year |baseline method|country (only baseline 4)\n",
    "w_minimization_list[0]['minWData'][1]"
   ]
  },
  {
   "cell_type": "code",
   "execution_count": null,
   "metadata": {},
   "outputs": [],
   "source": [
    "#          baseline method|country                  s-3 (only index 0 for baseline 1 and 2 due to the non minimizing s)\n",
    "baseline_prediction_list[2][0]['prediction']['2018'][11]['CRPS']"
   ]
  }
 ],
 "metadata": {
  "kernelspec": {
   "display_name": "Python 3",
   "language": "python",
   "name": "python3"
  },
  "language_info": {
   "codemirror_mode": {
    "name": "ipython",
    "version": 3
   },
   "file_extension": ".py",
   "mimetype": "text/x-python",
   "name": "python",
   "nbconvert_exporter": "python",
   "pygments_lexer": "ipython3",
   "version": "3.11.1"
  },
  "orig_nbformat": 4
 },
 "nbformat": 4,
 "nbformat_minor": 2
}
