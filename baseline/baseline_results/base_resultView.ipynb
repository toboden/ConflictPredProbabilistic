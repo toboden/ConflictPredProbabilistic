{
 "cells": [
  {
   "attachments": {},
   "cell_type": "markdown",
   "metadata": {},
   "source": [
    "# File import\n",
    "## Prediction"
   ]
  },
  {
   "cell_type": "code",
   "execution_count": 1,
   "metadata": {},
   "outputs": [
    {
     "name": "stdout",
     "output_type": "stream",
     "text": [
      "Hurdle Overall CRPS, max. w = 36\n",
      "baseline 1: 16.2933\n",
      "baseline 2: 16.3736\n",
      "baseline 3: 16.396\n",
      "baseline 4: 16.5978\n"
     ]
    }
   ],
   "source": [
    "import os\n",
    "from joblib import load\n",
    "import numpy as np\n",
    "\n",
    "user_dir = os.path.expanduser('~')\n",
    "file_path = os.path.join(user_dir, 'iCloudDrive\\Joblib BA', 'task2_baseline_predct_hurdleWmax3ctrs.joblib')\n",
    "loaded_vars_baseline = load(file_path)\n",
    "\n",
    "task2_baseline_list = loaded_vars_baseline[0] # crps averages for all 4 datasets\n",
    "w_minimization_list = loaded_vars_baseline[1] # contains the minimal w's for the different baselines for each year and country\n",
    "baseline_prediction_list = loaded_vars_baseline[2] # predictions with the minimal w's for each dataset and country\n",
    "baseline1_average_crps = loaded_vars_baseline[3] # mean CRPS from the baseline_prediction_list\n",
    "baseline2_average_crps = loaded_vars_baseline[4] # \"\"\n",
    "baseline3_average_crps = loaded_vars_baseline[5]\n",
    "baseline4_average_crps = loaded_vars_baseline[6]\n",
    "\n",
    "print('Hurdle Overall CRPS, max. w = 36')\n",
    "print('baseline 1: ' + str(np.round(baseline1_average_crps, decimals = 4)))\n",
    "print('baseline 2: ' + str(np.round(baseline2_average_crps, decimals = 4)))\n",
    "print('baseline 3: ' + str(np.round(baseline3_average_crps, decimals = 4)))\n",
    "print('baseline 4: ' + str(np.round(baseline4_average_crps, decimals = 4)))"
   ]
  },
  {
   "cell_type": "code",
   "execution_count": 2,
   "metadata": {},
   "outputs": [
    {
     "data": {
      "text/html": [
       "<div>\n",
       "<style scoped>\n",
       "    .dataframe tbody tr th:only-of-type {\n",
       "        vertical-align: middle;\n",
       "    }\n",
       "\n",
       "    .dataframe tbody tr th {\n",
       "        vertical-align: top;\n",
       "    }\n",
       "\n",
       "    .dataframe thead th {\n",
       "        text-align: right;\n",
       "    }\n",
       "</style>\n",
       "<table border=\"1\" class=\"dataframe\">\n",
       "  <thead>\n",
       "    <tr style=\"text-align: right;\">\n",
       "      <th></th>\n",
       "      <th>country_id</th>\n",
       "      <th>w</th>\n",
       "      <th>CRPS</th>\n",
       "    </tr>\n",
       "  </thead>\n",
       "  <tbody>\n",
       "    <tr>\n",
       "      <th>0</th>\n",
       "      <td>1</td>\n",
       "      <td>2</td>\n",
       "      <td>0.000000</td>\n",
       "    </tr>\n",
       "    <tr>\n",
       "      <th>1</th>\n",
       "      <td>2</td>\n",
       "      <td>2</td>\n",
       "      <td>0.000000</td>\n",
       "    </tr>\n",
       "    <tr>\n",
       "      <th>2</th>\n",
       "      <td>3</td>\n",
       "      <td>2</td>\n",
       "      <td>0.000000</td>\n",
       "    </tr>\n",
       "    <tr>\n",
       "      <th>3</th>\n",
       "      <td>4</td>\n",
       "      <td>2</td>\n",
       "      <td>0.000000</td>\n",
       "    </tr>\n",
       "    <tr>\n",
       "      <th>4</th>\n",
       "      <td>5</td>\n",
       "      <td>2</td>\n",
       "      <td>0.000000</td>\n",
       "    </tr>\n",
       "    <tr>\n",
       "      <th>...</th>\n",
       "      <td>...</td>\n",
       "      <td>...</td>\n",
       "      <td>...</td>\n",
       "    </tr>\n",
       "    <tr>\n",
       "      <th>186</th>\n",
       "      <td>242</td>\n",
       "      <td>2</td>\n",
       "      <td>0.000000</td>\n",
       "    </tr>\n",
       "    <tr>\n",
       "      <th>187</th>\n",
       "      <td>243</td>\n",
       "      <td>2</td>\n",
       "      <td>0.000000</td>\n",
       "    </tr>\n",
       "    <tr>\n",
       "      <th>188</th>\n",
       "      <td>244</td>\n",
       "      <td>2</td>\n",
       "      <td>0.000000</td>\n",
       "    </tr>\n",
       "    <tr>\n",
       "      <th>189</th>\n",
       "      <td>245</td>\n",
       "      <td>3</td>\n",
       "      <td>71.696026</td>\n",
       "    </tr>\n",
       "    <tr>\n",
       "      <th>190</th>\n",
       "      <td>246</td>\n",
       "      <td>3</td>\n",
       "      <td>88.257399</td>\n",
       "    </tr>\n",
       "  </tbody>\n",
       "</table>\n",
       "<p>191 rows × 3 columns</p>\n",
       "</div>"
      ],
      "text/plain": [
       "     country_id  w       CRPS\n",
       "0             1  2   0.000000\n",
       "1             2  2   0.000000\n",
       "2             3  2   0.000000\n",
       "3             4  2   0.000000\n",
       "4             5  2   0.000000\n",
       "..          ... ..        ...\n",
       "186         242  2   0.000000\n",
       "187         243  2   0.000000\n",
       "188         244  2   0.000000\n",
       "189         245  3  71.696026\n",
       "190         246  3  88.257399\n",
       "\n",
       "[191 rows x 3 columns]"
      ]
     },
     "execution_count": 2,
     "metadata": {},
     "output_type": "execute_result"
    }
   ],
   "source": [
    "#                dataset/year |baseline method|country (only baseline 4)\n",
    "w_minimization_list[0]['minWData'][1]"
   ]
  },
  {
   "cell_type": "code",
   "execution_count": 3,
   "metadata": {},
   "outputs": [],
   "source": [
    "#          baseline method|country                  s-3 (only index 0 for baseline 1 and 2 due to the non minimizing s)\n",
    "#baseline_prediction_list[1][0]#['prediction']['2018']"
   ]
  },
  {
   "attachments": {},
   "cell_type": "markdown",
   "metadata": {},
   "source": [
    "## Estimation"
   ]
  },
  {
   "cell_type": "code",
   "execution_count": 4,
   "metadata": {},
   "outputs": [],
   "source": [
    "user_dir = os.path.expanduser('~')\n",
    "file_path = os.path.join(user_dir, 'iCloudDrive\\Joblib BA', 'task2_baseline_estim_hurdleWmax3ctrs.joblib')\n",
    "loaded_vars_baseline = load(file_path)\n",
    "\n",
    "country_list = loaded_vars_baseline[0] # list of all countries\n",
    "baseline_estimate_list = loaded_vars_baseline[1] # all estimation windows for each country and w"
   ]
  },
  {
   "cell_type": "code",
   "execution_count": 5,
   "metadata": {},
   "outputs": [],
   "source": [
    "#                     w                        country         rollingWindow|predicton/actuals\n",
    "#baseline_estimate_list[0]['country_predict_list'][18]['predictionWindowsN'][0][0]"
   ]
  },
  {
   "attachments": {},
   "cell_type": "markdown",
   "metadata": {},
   "source": [
    "### Check if nan/inf/-inf is in one of the fatality estimates"
   ]
  },
  {
   "cell_type": "code",
   "execution_count": 6,
   "metadata": {},
   "outputs": [
    {
     "name": "stderr",
     "output_type": "stream",
     "text": [
      "  0%|          | 0/191 [00:00<?, ?it/s]"
     ]
    },
    {
     "name": "stderr",
     "output_type": "stream",
     "text": [
      "100%|██████████| 191/191 [00:06<00:00, 27.97it/s]\n"
     ]
    }
   ],
   "source": [
    "from tqdm import tqdm\n",
    "def contains_nan(lst):\n",
    "    # Konvertiere die Liste in ein NumPy-Array\n",
    "    arr = np.array(lst)\n",
    "\n",
    "    return np.isnan(arr).any()\n",
    "\n",
    "def contains_negative_infinity(lst):\n",
    "    # Konvertiere die Liste in ein NumPy-Array\n",
    "    arr = np.array(lst)\n",
    "    \n",
    "    return np.isneginf(arr).any()\n",
    "\n",
    "def contains_infinity(lst):\n",
    "    # Konvertiere die Liste in ein NumPy-Array\n",
    "    arr = np.array(lst)\n",
    "    \n",
    "    return np.isinf(arr).any()\n",
    "\n",
    "for countrIndex in tqdm(range(len(baseline_estimate_list[1]['country_predict_list']))):\n",
    "    for wIndex in range(len(baseline_estimate_list)):\n",
    "        for rollingWindowIndex in range(len(baseline_estimate_list[wIndex]['country_predict_list'][countrIndex]['predictionWindowsN'])):\n",
    "            rolling_window_fatalities = baseline_estimate_list[wIndex]['country_predict_list'][countrIndex]['predictionWindowsN'][rollingWindowIndex][0]['fatalities']\n",
    "            nan = contains_nan(rolling_window_fatalities)\n",
    "            neginf = contains_negative_infinity(rolling_window_fatalities)\n",
    "            inf = contains_infinity(rolling_window_fatalities)\n",
    "            \n",
    "            if nan:\n",
    "                print('nan')\n",
    "            if neginf:\n",
    "                print('-inf')\n",
    "            if inf:\n",
    "                print('inf')\n",
    "            \n",
    "            if nan or neginf or inf:\n",
    "                print('country index ' + str(countrIndex))\n",
    "                print('w index ' + str(wIndex))\n",
    "                print('rolling window ' + str(rollingWindowIndex))"
   ]
  },
  {
   "cell_type": "code",
   "execution_count": 7,
   "metadata": {},
   "outputs": [],
   "source": [
    "#                     w                        country         rollingWindow|predicton/actuals\n",
    "#baseline_estimate_list[0]['country_predict_list'][6]['predictionWindowsN'][0][0]"
   ]
  }
 ],
 "metadata": {
  "kernelspec": {
   "display_name": "Python 3",
   "language": "python",
   "name": "python3"
  },
  "language_info": {
   "codemirror_mode": {
    "name": "ipython",
    "version": 3
   },
   "file_extension": ".py",
   "mimetype": "text/x-python",
   "name": "python",
   "nbconvert_exporter": "python",
   "pygments_lexer": "ipython3",
   "version": "3.11.1"
  }
 },
 "nbformat": 4,
 "nbformat_minor": 4
}
