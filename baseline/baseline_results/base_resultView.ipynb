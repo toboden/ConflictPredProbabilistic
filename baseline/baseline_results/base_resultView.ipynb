{
 "cells": [
  {
   "cell_type": "code",
   "execution_count": 3,
   "metadata": {},
   "outputs": [],
   "source": [
    "from joblib import load\n",
    "# var to set---- Jahr hier und unten in .joblib müssen übereinstimmen!!!\n",
    "prediction_year = '2021' # 2019, 2020, 2021\n",
    "#------\n",
    "# FinalTask2_NN_2021_Hyperparamctr2204all\n",
    "# FinalTask2_NN_2021_HyperparamctrallIndividual\n",
    "# var to set----\n",
    "vars = load('FinalTask2_NN_2021_HyperparamctrallIndividual.joblib')\n",
    "#-----\n",
    "NNet_prediction_list, country_list, pred_year_string, seed, zero_fatalities_country_list = vars"
   ]
  },
  {
   "attachments": {},
   "cell_type": "markdown",
   "metadata": {},
   "source": [
    "# File import\n",
    "## Prediction"
   ]
  },
  {
   "cell_type": "code",
   "execution_count": 75,
   "metadata": {},
   "outputs": [
    {
     "name": "stdout",
     "output_type": "stream",
     "text": [
      "Overall CRPS, max. w = 24\n",
      "baseline 1: 16.1644\n",
      "baseline 2: 16.3591\n",
      "baseline 3: 16.2584\n",
      "baseline 4: 16.2204\n"
     ]
    }
   ],
   "source": [
    "import os\n",
    "from joblib import load\n",
    "import numpy as np\n",
    "\n",
    "user_dir = os.path.expanduser('~')\n",
    "file_path = os.path.join(user_dir, 'iCloudDrive\\\\Joblib BA\\\\final baseline', 'FinalTask2_baseline_predct_hurdleWmax24.joblib')\n",
    "loaded_vars_baseline = load(file_path)\n",
    "\n",
    "task2_baseline_list = loaded_vars_baseline[0] # crps averages for all 4 datasets\n",
    "w_minimization_list = loaded_vars_baseline[1] # contains the minimal w's for the different baselines for each year and country\n",
    "baseline_prediction_list = loaded_vars_baseline[2] # predictions with the minimal w's for each dataset and country\n",
    "baseline1_average_crps = loaded_vars_baseline[3] # mean CRPS from the baseline_prediction_list\n",
    "baseline2_average_crps = loaded_vars_baseline[4] # \"\"\n",
    "baseline3_average_crps = loaded_vars_baseline[5]\n",
    "baseline4_average_crps = loaded_vars_baseline[6]\n",
    "\n",
    "print('Overall CRPS, max. w = 24')\n",
    "print('baseline 1: ' + str(np.round(baseline1_average_crps, decimals = 4)))\n",
    "print('baseline 2: ' + str(np.round(baseline2_average_crps, decimals = 4)))\n",
    "print('baseline 3: ' + str(np.round(baseline3_average_crps, decimals = 4)))\n",
    "print('baseline 4: ' + str(np.round(baseline4_average_crps, decimals = 4)))"
   ]
  },
  {
   "cell_type": "code",
   "execution_count": null,
   "metadata": {},
   "outputs": [],
   "source": [
    "country_list\n",
    "zero_fatalities_country_list"
   ]
  },
  {
   "cell_type": "code",
   "execution_count": 76,
   "metadata": {},
   "outputs": [],
   "source": [
    "w_mean_list = []\n",
    "w_var_list = []\n",
    "for year in range(4):\n",
    "    w_average_list = []\n",
    "    data = w_minimization_list[year]['minWData'][0]\n",
    "    \n",
    "    w_mean_list.append(data.iloc[0,0])"
   ]
  },
  {
   "cell_type": "code",
   "execution_count": 77,
   "metadata": {},
   "outputs": [
    {
     "name": "stdout",
     "output_type": "stream",
     "text": [
      "22.5\n",
      "2.06\n"
     ]
    }
   ],
   "source": [
    "print(round(np.mean(w_mean_list), 2))\n",
    "print(round(np.std(w_mean_list),2))"
   ]
  },
  {
   "cell_type": "code",
   "execution_count": 78,
   "metadata": {},
   "outputs": [],
   "source": [
    "w_mean_list = []\n",
    "w_var_list = []\n",
    "for year in range(4):\n",
    "    w_average_list = []\n",
    "    data = w_minimization_list[year]['minWData'][1]\n",
    "    for i in range(len(data)):\n",
    "        #if data.iloc[i,0] not in zero_fatalities_country_list:\n",
    "        w_average_list.append(data.iloc[i,1])\n",
    "\n",
    "    w_mean_list.append(round(np.mean(w_average_list), 2))\n",
    "    w_var_list.append(round(np.var(w_average_list), 2))"
   ]
  },
  {
   "cell_type": "code",
   "execution_count": 79,
   "metadata": {},
   "outputs": [
    {
     "name": "stdout",
     "output_type": "stream",
     "text": [
      "5.94\n",
      "0.71\n"
     ]
    }
   ],
   "source": [
    "print(round(np.mean(w_mean_list), 2))\n",
    "print(round(np.std(w_var_list),2))"
   ]
  },
  {
   "cell_type": "code",
   "execution_count": 80,
   "metadata": {},
   "outputs": [],
   "source": [
    "w_mean_list = []\n",
    "w_var_list = []\n",
    "for year in range(4):\n",
    "    w_average_list = []\n",
    "    data = w_minimization_list[year]['minWData'][2]\n",
    "    \n",
    "    w_mean_list.append(round(np.mean(data.iloc[:,1]), 2))\n",
    "    w_var_list.append(round(np.var(data.iloc[:,1]), 2))"
   ]
  },
  {
   "cell_type": "code",
   "execution_count": 81,
   "metadata": {},
   "outputs": [
    {
     "name": "stdout",
     "output_type": "stream",
     "text": [
      "23.1\n",
      "27.82\n"
     ]
    }
   ],
   "source": [
    "print(round(np.mean(w_mean_list), 2))\n",
    "print(round(np.std(w_var_list),2))"
   ]
  },
  {
   "cell_type": "code",
   "execution_count": 82,
   "metadata": {},
   "outputs": [],
   "source": [
    "w_mean_list = []\n",
    "w_var_list = []\n",
    "for year in range(4):\n",
    "    w_average_list = []\n",
    "    data = w_minimization_list[year]['minWData'][3]\n",
    "    for i in range(len(data)):\n",
    "        #if data[i].iloc[0,0] not in zero_fatalities_country_list:\n",
    "        w_average_list.append(np.mean(data[i].iloc[:,2]))\n",
    "\n",
    "    w_mean_list.append(round(np.mean(w_average_list), 2))\n",
    "    w_var_list.append(round(np.var(w_average_list), 2))"
   ]
  },
  {
   "cell_type": "code",
   "execution_count": 83,
   "metadata": {},
   "outputs": [
    {
     "name": "stdout",
     "output_type": "stream",
     "text": [
      "5.46\n",
      "2.58\n"
     ]
    }
   ],
   "source": [
    "print(round(np.mean(w_mean_list), 2))\n",
    "print(round(np.std(w_var_list),2))"
   ]
  },
  {
   "cell_type": "code",
   "execution_count": 72,
   "metadata": {},
   "outputs": [
    {
     "data": {
      "text/html": [
       "<div>\n",
       "<style scoped>\n",
       "    .dataframe tbody tr th:only-of-type {\n",
       "        vertical-align: middle;\n",
       "    }\n",
       "\n",
       "    .dataframe tbody tr th {\n",
       "        vertical-align: top;\n",
       "    }\n",
       "\n",
       "    .dataframe thead th {\n",
       "        text-align: right;\n",
       "    }\n",
       "</style>\n",
       "<table border=\"1\" class=\"dataframe\">\n",
       "  <thead>\n",
       "    <tr style=\"text-align: right;\">\n",
       "      <th></th>\n",
       "      <th>w</th>\n",
       "      <th>CRPS</th>\n",
       "    </tr>\n",
       "  </thead>\n",
       "  <tbody>\n",
       "    <tr>\n",
       "      <th>0</th>\n",
       "      <td>18</td>\n",
       "      <td>11.139745</td>\n",
       "    </tr>\n",
       "  </tbody>\n",
       "</table>\n",
       "</div>"
      ],
      "text/plain": [
       "    w       CRPS\n",
       "0  18  11.139745"
      ]
     },
     "execution_count": 72,
     "metadata": {},
     "output_type": "execute_result"
    }
   ],
   "source": [
    "w_minimization_list[3]['minWData'][0]"
   ]
  },
  {
   "cell_type": "code",
   "execution_count": 3,
   "metadata": {},
   "outputs": [],
   "source": [
    "#          baseline method|country                  s-3 (only index 0 for baseline 1 and 2 due to the non minimizing s)\n",
    "#baseline_prediction_list[1][0]#['prediction']['2018']"
   ]
  },
  {
   "attachments": {},
   "cell_type": "markdown",
   "metadata": {},
   "source": [
    "## Estimation"
   ]
  },
  {
   "cell_type": "code",
   "execution_count": 4,
   "metadata": {},
   "outputs": [],
   "source": [
    "user_dir = os.path.expanduser('~')\n",
    "file_path = os.path.join(user_dir, 'iCloudDrive\\Joblib BA', 'task2_baseline_estim_hurdleWmax3ctrs.joblib')\n",
    "loaded_vars_baseline = load(file_path)\n",
    "\n",
    "country_list = loaded_vars_baseline[0] # list of all countries\n",
    "baseline_estimate_list = loaded_vars_baseline[1] # all estimation windows for each country and w"
   ]
  },
  {
   "cell_type": "code",
   "execution_count": 5,
   "metadata": {},
   "outputs": [],
   "source": [
    "#                     w                        country         rollingWindow|predicton/actuals\n",
    "#baseline_estimate_list[0]['country_predict_list'][18]['predictionWindowsN'][0][0]"
   ]
  },
  {
   "attachments": {},
   "cell_type": "markdown",
   "metadata": {},
   "source": [
    "### Check if nan/inf/-inf is in one of the fatality estimates"
   ]
  },
  {
   "cell_type": "code",
   "execution_count": 6,
   "metadata": {},
   "outputs": [
    {
     "name": "stderr",
     "output_type": "stream",
     "text": [
      "  0%|          | 0/191 [00:00<?, ?it/s]"
     ]
    },
    {
     "name": "stderr",
     "output_type": "stream",
     "text": [
      "100%|██████████| 191/191 [00:06<00:00, 27.97it/s]\n"
     ]
    }
   ],
   "source": [
    "from tqdm import tqdm\n",
    "def contains_nan(lst):\n",
    "    # Konvertiere die Liste in ein NumPy-Array\n",
    "    arr = np.array(lst)\n",
    "\n",
    "    return np.isnan(arr).any()\n",
    "\n",
    "def contains_negative_infinity(lst):\n",
    "    # Konvertiere die Liste in ein NumPy-Array\n",
    "    arr = np.array(lst)\n",
    "    \n",
    "    return np.isneginf(arr).any()\n",
    "\n",
    "def contains_infinity(lst):\n",
    "    # Konvertiere die Liste in ein NumPy-Array\n",
    "    arr = np.array(lst)\n",
    "    \n",
    "    return np.isinf(arr).any()\n",
    "\n",
    "for countrIndex in tqdm(range(len(baseline_estimate_list[1]['country_predict_list']))):\n",
    "    for wIndex in range(len(baseline_estimate_list)):\n",
    "        for rollingWindowIndex in range(len(baseline_estimate_list[wIndex]['country_predict_list'][countrIndex]['predictionWindowsN'])):\n",
    "            rolling_window_fatalities = baseline_estimate_list[wIndex]['country_predict_list'][countrIndex]['predictionWindowsN'][rollingWindowIndex][0]['fatalities']\n",
    "            nan = contains_nan(rolling_window_fatalities)\n",
    "            neginf = contains_negative_infinity(rolling_window_fatalities)\n",
    "            inf = contains_infinity(rolling_window_fatalities)\n",
    "            \n",
    "            if nan:\n",
    "                print('nan')\n",
    "            if neginf:\n",
    "                print('-inf')\n",
    "            if inf:\n",
    "                print('inf')\n",
    "            \n",
    "            if nan or neginf or inf:\n",
    "                print('country index ' + str(countrIndex))\n",
    "                print('w index ' + str(wIndex))\n",
    "                print('rolling window ' + str(rollingWindowIndex))"
   ]
  },
  {
   "cell_type": "code",
   "execution_count": 7,
   "metadata": {},
   "outputs": [],
   "source": [
    "#                     w                        country         rollingWindow|predicton/actuals\n",
    "#baseline_estimate_list[0]['country_predict_list'][6]['predictionWindowsN'][0][0]"
   ]
  }
 ],
 "metadata": {
  "kernelspec": {
   "display_name": "Python 3",
   "language": "python",
   "name": "python3"
  },
  "language_info": {
   "codemirror_mode": {
    "name": "ipython",
    "version": 3
   },
   "file_extension": ".py",
   "mimetype": "text/x-python",
   "name": "python",
   "nbconvert_exporter": "python",
   "pygments_lexer": "ipython3",
   "version": "3.10.11"
  }
 },
 "nbformat": 4,
 "nbformat_minor": 4
}
