{
 "cells": [
  {
   "cell_type": "code",
   "execution_count": 28,
   "metadata": {},
   "outputs": [
    {
     "data": {
      "text/html": [
       "<div>\n",
       "<style scoped>\n",
       "    .dataframe tbody tr th:only-of-type {\n",
       "        vertical-align: middle;\n",
       "    }\n",
       "\n",
       "    .dataframe tbody tr th {\n",
       "        vertical-align: top;\n",
       "    }\n",
       "\n",
       "    .dataframe thead th {\n",
       "        text-align: right;\n",
       "    }\n",
       "</style>\n",
       "<table border=\"1\" class=\"dataframe\">\n",
       "  <thead>\n",
       "    <tr style=\"text-align: right;\">\n",
       "      <th></th>\n",
       "      <th></th>\n",
       "      <th></th>\n",
       "      <th>outcome</th>\n",
       "    </tr>\n",
       "    <tr>\n",
       "      <th>month_id</th>\n",
       "      <th>country_id</th>\n",
       "      <th>draw</th>\n",
       "      <th></th>\n",
       "    </tr>\n",
       "  </thead>\n",
       "  <tbody>\n",
       "    <tr>\n",
       "      <th rowspan=\"5\" valign=\"top\">481</th>\n",
       "      <th rowspan=\"5\" valign=\"top\">1</th>\n",
       "      <th>0</th>\n",
       "      <td>0</td>\n",
       "    </tr>\n",
       "    <tr>\n",
       "      <th>1</th>\n",
       "      <td>0</td>\n",
       "    </tr>\n",
       "    <tr>\n",
       "      <th>2</th>\n",
       "      <td>0</td>\n",
       "    </tr>\n",
       "    <tr>\n",
       "      <th>3</th>\n",
       "      <td>0</td>\n",
       "    </tr>\n",
       "    <tr>\n",
       "      <th>4</th>\n",
       "      <td>0</td>\n",
       "    </tr>\n",
       "    <tr>\n",
       "      <th>...</th>\n",
       "      <th>...</th>\n",
       "      <th>...</th>\n",
       "      <td>...</td>\n",
       "    </tr>\n",
       "    <tr>\n",
       "      <th rowspan=\"5\" valign=\"top\">492</th>\n",
       "      <th rowspan=\"5\" valign=\"top\">246</th>\n",
       "      <th>995</th>\n",
       "      <td>14</td>\n",
       "    </tr>\n",
       "    <tr>\n",
       "      <th>996</th>\n",
       "      <td>12</td>\n",
       "    </tr>\n",
       "    <tr>\n",
       "      <th>997</th>\n",
       "      <td>16</td>\n",
       "    </tr>\n",
       "    <tr>\n",
       "      <th>998</th>\n",
       "      <td>9</td>\n",
       "    </tr>\n",
       "    <tr>\n",
       "      <th>999</th>\n",
       "      <td>14</td>\n",
       "    </tr>\n",
       "  </tbody>\n",
       "</table>\n",
       "<p>2292000 rows × 1 columns</p>\n",
       "</div>"
      ],
      "text/plain": [
       "                          outcome\n",
       "month_id country_id draw         \n",
       "481      1          0           0\n",
       "                    1           0\n",
       "                    2           0\n",
       "                    3           0\n",
       "                    4           0\n",
       "...                           ...\n",
       "492      246        995        14\n",
       "                    996        12\n",
       "                    997        16\n",
       "                    998         9\n",
       "                    999        14\n",
       "\n",
       "[2292000 rows x 1 columns]"
      ]
     },
     "execution_count": 28,
     "metadata": {},
     "output_type": "execute_result"
    }
   ],
   "source": [
    "import pandas as pd\n",
    "\n",
    "# Pfad zur Parquet-Datei\n",
    "parquet_file_path = r'C:\\Users\\Tobias\\Documents\\BAconflictPrediction\\ConflictPrediction\\benchmark views\\bm_cm_last_historical_poisson_expanded_2020.parquet'\n",
    "\n",
    "# Parquet-Datei in ein DataFrame einlesen\n",
    "benchmark_data = pd.read_parquet(parquet_file_path)\n",
    "\n",
    "benchmark_data"
   ]
  },
  {
   "cell_type": "code",
   "execution_count": 5,
   "metadata": {},
   "outputs": [],
   "source": [
    "import os\n",
    "# create the feature- and actuals-data list\n",
    "# set the feature and actuals year lists\n",
    "feature_years = ['2017','2018','2019','2020']\n",
    "actual_years = ['2018','2019','2020','2021']\n",
    "\n",
    "actuals_df_list = []\n",
    "features_df_list = []\n",
    "\n",
    "# path to the current directory\n",
    "current_dir = os.getcwd()\n",
    "\n",
    "for i in range(len(feature_years)):\n",
    "    # relative paths to the parquet files\n",
    "    relative_path_features = os.path.join('..', 'data', 'cm_features_to_oct' + feature_years[i] + '.parquet')\n",
    "    relative_path_actuals = os.path.join('..', 'data', 'cm_actuals_' + actual_years[i] + '.parquet')\n",
    "\n",
    "    path_features = os.path.join(current_dir, relative_path_features)\n",
    "    path_actuals = os.path.join(current_dir, relative_path_actuals)\n",
    "\n",
    "    # append datasets to the lists\n",
    "    actuals_df_list.append({'year':actual_years[i], 'data':pd.read_parquet(path_actuals, engine='pyarrow')})\n",
    "    features_df_list.append({'year':feature_years[i], 'data':pd.read_parquet(path_features, engine='pyarrow')})\n",
    "\n",
    "# concat the feature datasets, so that every data contains the observations starting with january 1990\n",
    "for i in range(1,len(features_df_list)):\n",
    "    features_df_list[i]['data'] = pd.concat([features_df_list[i-1]['data'], features_df_list[i]['data']])\n",
    "\n",
    "country_list = sorted(features_df_list[3]['data'].index.get_level_values('country_id').unique().tolist())\n",
    "\n",
    "# country group list of all four datasets\n",
    "country_feature_group_list = []\n",
    "country_actual_group_list = []\n",
    "# fill list \n",
    "for i in range(len(features_df_list)):\n",
    "    country_feature_group_list.append(features_df_list[i]['data'].groupby('country_id'))\n",
    "    country_actual_group_list.append(actuals_df_list[i]['data'].groupby('country_id'))"
   ]
  },
  {
   "cell_type": "code",
   "execution_count": 31,
   "metadata": {},
   "outputs": [],
   "source": [
    "from joblib import load\n",
    "# var to set---- Jahr hier und unten in .joblib müssen übereinstimmen!!!\n",
    "prediction_year = '2020' # 2019, 2020, 2021\n",
    "#------\n",
    "\n",
    "dataset_index = actual_years.index(prediction_year)\n",
    "actual_data = actuals_df_list[dataset_index]['data']\n",
    "actuals_months = actual_data.index.get_level_values('month_id').unique()\n",
    "# FinalTask2_NN_2021_Hyperparamctr2204all\n",
    "# FinalTask2_NN_2021_HyperparamctrallIndividual\n",
    "# var to set----\n",
    "vars = load('FinalTask2_NN_2020_HyperparamctrallIndividual.joblib')\n",
    "#-----\n",
    "NNet_prediction_list, country_list, pred_year_string, seed, zero_fatalities_country_list = vars"
   ]
  },
  {
   "cell_type": "markdown",
   "metadata": {},
   "source": [
    "# Transform Neural Net prediction to dataframe"
   ]
  },
  {
   "cell_type": "code",
   "execution_count": 32,
   "metadata": {},
   "outputs": [],
   "source": [
    "monthly_fatlities_pred = pd.DataFrame()\n",
    "# Iterieren Sie über die Daten und füllen Sie den DataFrame\n",
    "for country in NNet_prediction_list:\n",
    "    for s in country[pred_year_string][0]['s']:\n",
    "        month_id = actuals_months[s-3]\n",
    "        country_id = country['country_id']\n",
    "        distribution = country[pred_year_string][0]['distribution'][s-3]\n",
    "        draw = list(range(0,len(distribution)))\n",
    "\n",
    "        index_tupel_list = []\n",
    "        for i in range(len(distribution)):\n",
    "            index_tupel_list.append((month_id,country_id,draw[i]))\n",
    "\n",
    "        index = pd.MultiIndex.from_tuples(index_tupel_list, names=['month_id', 'country_id', 'draw'])\n",
    "\n",
    "        # Erstelle eine Beispiel-Spalte \"outcome\"\n",
    "        outcome = list(distribution)\n",
    "\n",
    "        # alle Einträge in int transformieren\n",
    "        outcome = [int(element) for element in outcome]\n",
    "\n",
    "        # Erstelle den DataFrame\n",
    "        df = pd.DataFrame({'outcome': outcome}, index=index)\n",
    "\n",
    "        monthly_fatlities_pred = pd.concat([monthly_fatlities_pred, df], ignore_index=False)"
   ]
  },
  {
   "cell_type": "code",
   "execution_count": 33,
   "metadata": {},
   "outputs": [],
   "source": [
    "nn_data = monthly_fatlities_pred"
   ]
  },
  {
   "cell_type": "code",
   "execution_count": 35,
   "metadata": {},
   "outputs": [
    {
     "ename": "KeyError",
     "evalue": "'o'",
     "output_type": "error",
     "traceback": [
      "\u001b[1;31m---------------------------------------------------------------------------\u001b[0m",
      "\u001b[1;31mKeyError\u001b[0m                                  Traceback (most recent call last)",
      "\u001b[1;32mc:\\Users\\Tobias\\Documents\\BAconflictPrediction\\ConflictPrediction\\benchmark views\\view_benchmark.ipynb Cell 7\u001b[0m line \u001b[0;36m1\n\u001b[0;32m     <a href='vscode-notebook-cell:/c%3A/Users/Tobias/Documents/BAconflictPrediction/ConflictPrediction/benchmark%20views/view_benchmark.ipynb#X26sZmlsZQ%3D%3D?line=11'>12</a>\u001b[0m country_crps_list \u001b[39m=\u001b[39m []\n\u001b[0;32m     <a href='vscode-notebook-cell:/c%3A/Users/Tobias/Documents/BAconflictPrediction/ConflictPrediction/benchmark%20views/view_benchmark.ipynb#X26sZmlsZQ%3D%3D?line=12'>13</a>\u001b[0m \u001b[39mfor\u001b[39;00m i \u001b[39min\u001b[39;00m \u001b[39mrange\u001b[39m(\u001b[39m0\u001b[39m,\u001b[39m12\u001b[39m):\n\u001b[1;32m---> <a href='vscode-notebook-cell:/c%3A/Users/Tobias/Documents/BAconflictPrediction/ConflictPrediction/benchmark%20views/view_benchmark.ipynb#X26sZmlsZQ%3D%3D?line=13'>14</a>\u001b[0m     y_true \u001b[39m=\u001b[39m actual_group\u001b[39m.\u001b[39;49mget_group(country_id)\u001b[39m.\u001b[39miloc[i,\u001b[39m0\u001b[39m]\n\u001b[0;32m     <a href='vscode-notebook-cell:/c%3A/Users/Tobias/Documents/BAconflictPrediction/ConflictPrediction/benchmark%20views/view_benchmark.ipynb#X26sZmlsZQ%3D%3D?line=14'>15</a>\u001b[0m     month \u001b[39m=\u001b[39m actuals_months[i]\n\u001b[0;32m     <a href='vscode-notebook-cell:/c%3A/Users/Tobias/Documents/BAconflictPrediction/ConflictPrediction/benchmark%20views/view_benchmark.ipynb#X26sZmlsZQ%3D%3D?line=15'>16</a>\u001b[0m     prediction \u001b[39m=\u001b[39m bench_21_country_group\u001b[39m.\u001b[39mget_group(country_id)\u001b[39m.\u001b[39mxs(month, level\u001b[39m=\u001b[39m\u001b[39m'\u001b[39m\u001b[39mmonth_id\u001b[39m\u001b[39m'\u001b[39m)\u001b[39m.\u001b[39mvalues\u001b[39m.\u001b[39mflatten()\n",
      "File \u001b[1;32mc:\\Users\\Tobias\\AppData\\Local\\Programs\\Python\\Python310\\lib\\site-packages\\pandas\\core\\groupby\\groupby.py:800\u001b[0m, in \u001b[0;36mBaseGroupBy.get_group\u001b[1;34m(self, name, obj)\u001b[0m\n\u001b[0;32m    798\u001b[0m inds \u001b[39m=\u001b[39m \u001b[39mself\u001b[39m\u001b[39m.\u001b[39m_get_index(name)\n\u001b[0;32m    799\u001b[0m \u001b[39mif\u001b[39;00m \u001b[39mnot\u001b[39;00m \u001b[39mlen\u001b[39m(inds):\n\u001b[1;32m--> 800\u001b[0m     \u001b[39mraise\u001b[39;00m \u001b[39mKeyError\u001b[39;00m(name)\n\u001b[0;32m    802\u001b[0m \u001b[39mreturn\u001b[39;00m obj\u001b[39m.\u001b[39m_take_with_is_copy(inds, axis\u001b[39m=\u001b[39m\u001b[39mself\u001b[39m\u001b[39m.\u001b[39maxis)\n",
      "\u001b[1;31mKeyError\u001b[0m: 'o'"
     ]
    }
   ],
   "source": [
    "import CRPS.CRPS as pscore\n",
    "import numpy as np\n",
    "\n",
    "actual_group = actual_data.groupby('country_id')\n",
    "\n",
    "bench_21_country_group = nn_data.groupby('country_id')\n",
    "crps_values_test = []\n",
    "\n",
    "for country in bench_21_country_group:\n",
    "    country_id = country[0]\n",
    "\n",
    "    country_crps_list = []\n",
    "    for i in range(0,12):\n",
    "        y_true = actual_group.get_group(country_id).iloc[i,0]\n",
    "        month = actuals_months[i]\n",
    "        prediction = bench_21_country_group.get_group(country_id).xs(month, level='month_id').values.flatten()\n",
    "        crps = pscore(prediction,y_true).compute()[0]\n",
    "        country_crps_list.append(crps)\n",
    "    crps_values_test.append(np.mean(country_crps_list))\n",
    "\n",
    "mean_crps_test = np.mean(crps_values_test)\n",
    "\n",
    "\n",
    "print('Mean CRPS benchmark = ' + str(mean_crps_test) + ' \\\\'+'\\\\')"
   ]
  },
  {
   "cell_type": "code",
   "execution_count": null,
   "metadata": {},
   "outputs": [],
   "source": [
    "monthly_fatlities_pred.xs(493, level='month_id').iloc[:,0]"
   ]
  },
  {
   "cell_type": "code",
   "execution_count": 25,
   "metadata": {},
   "outputs": [],
   "source": [
    "monthly_fatlities_pred.to_parquet('cm_NeuralNetNegBin_test_window_2020.parquet')"
   ]
  },
  {
   "cell_type": "code",
   "execution_count": null,
   "metadata": {},
   "outputs": [],
   "source": []
  },
  {
   "cell_type": "code",
   "execution_count": 9,
   "metadata": {},
   "outputs": [],
   "source": [
    "# proof that result is int32\n",
    "# monthly_fatlities_pred.xs(493, level='month_id').iloc[:,0]"
   ]
  },
  {
   "cell_type": "code",
   "execution_count": 10,
   "metadata": {},
   "outputs": [
    {
     "name": "stdout",
     "output_type": "stream",
     "text": [
      "Overall CRPS, max. w = 24\n",
      "baseline 1: 16.1644\n",
      "baseline 2: 16.3591\n",
      "baseline 3: 16.2584\n",
      "baseline 4: 16.2204\n"
     ]
    }
   ],
   "source": [
    "import numpy as np\n",
    "\n",
    "user_dir = os.path.expanduser('~')\n",
    "file_path = os.path.join(user_dir, 'iCloudDrive\\\\Joblib BA\\\\final baseline', 'FinalTask2_baseline_predct_hurdleWmax24.joblib')\n",
    "loaded_vars_baseline = load(file_path)\n",
    "\n",
    "task2_baseline_list = loaded_vars_baseline[0] # crps averages for all 4 datasets\n",
    "w_minimization_list = loaded_vars_baseline[1] # contains the minimal w's for the different baselines for each year and country\n",
    "baseline_prediction_list = loaded_vars_baseline[2] # predictions with the minimal w's for each dataset and country\n",
    "baseline1_average_crps = loaded_vars_baseline[3] # mean CRPS from the baseline_prediction_list\n",
    "baseline2_average_crps = loaded_vars_baseline[4] # \"\"\n",
    "baseline3_average_crps = loaded_vars_baseline[5]\n",
    "baseline4_average_crps = loaded_vars_baseline[6]\n",
    "\n",
    "print('Overall CRPS, max. w = 24')\n",
    "print('baseline 1: ' + str(np.round(baseline1_average_crps, decimals = 4)))\n",
    "print('baseline 2: ' + str(np.round(baseline2_average_crps, decimals = 4)))\n",
    "print('baseline 3: ' + str(np.round(baseline3_average_crps, decimals = 4)))\n",
    "print('baseline 4: ' + str(np.round(baseline4_average_crps, decimals = 4)))"
   ]
  },
  {
   "cell_type": "markdown",
   "metadata": {},
   "source": [
    "# Mean CRPS Benchmark"
   ]
  },
  {
   "cell_type": "code",
   "execution_count": 30,
   "metadata": {},
   "outputs": [
    {
     "name": "stdout",
     "output_type": "stream",
     "text": [
      "Mean CRPS benchmark = 13.698199829842933 \\\\\n"
     ]
    }
   ],
   "source": [
    "import CRPS.CRPS as pscore\n",
    "import numpy as np\n",
    "\n",
    "actual_group = actual_data.groupby('country_id')\n",
    "\n",
    "bench_21_country_group = benchmark_data.groupby('country_id')\n",
    "crps_values_test = []\n",
    "\n",
    "for country in bench_21_country_group:\n",
    "    country_id = country[0]\n",
    "\n",
    "    country_crps_list = []\n",
    "    for i in range(0,12):\n",
    "        y_true = actual_group.get_group(country_id).iloc[i,0]\n",
    "        month = actuals_months[i]\n",
    "        prediction = bench_21_country_group.get_group(country_id).xs(month, level='month_id').values.flatten()\n",
    "        crps = pscore(prediction,y_true).compute()[0]\n",
    "        country_crps_list.append(crps)\n",
    "    crps_values_test.append(np.mean(country_crps_list))\n",
    "\n",
    "mean_crps_test = np.mean(crps_values_test)\n",
    "\n",
    "\n",
    "print('Mean CRPS benchmark = ' + str(mean_crps_test) + ' \\\\'+'\\\\')"
   ]
  },
  {
   "cell_type": "markdown",
   "metadata": {},
   "source": [
    "# Mean CRPS optimal Baseline Variant 2"
   ]
  },
  {
   "cell_type": "code",
   "execution_count": null,
   "metadata": {},
   "outputs": [],
   "source": [
    "baseline2_average_crps_2018_list = []\n",
    "baseline2_average_crps_2019_list = []\n",
    "baseline2_average_crps_2020_list = []\n",
    "baseline2_average_crps_2021_list = []\n",
    "\n",
    "s_prediction_list = list(range(3, 15))\n",
    "\n",
    "for i in range(4):\n",
    "    year = actual_years[i]\n",
    "    for index in range(len(country_list)):\n",
    "        for s in s_prediction_list:\n",
    "            \n",
    "            if year == '2018':\n",
    "                baseline2_average_crps_2018_list.append(np.mean(baseline_prediction_list[0][index]['prediction'][year][0]['CRPS'][s-3]))\n",
    "\n",
    "            elif year == '2019':\n",
    "                baseline2_average_crps_2019_list.append(np.mean(baseline_prediction_list[0][index]['prediction'][year][0]['CRPS'][s-3]))\n",
    "\n",
    "            elif year == '2020':\n",
    "                baseline2_average_crps_2020_list.append(np.mean(baseline_prediction_list[0][index]['prediction'][year][0]['CRPS'][s-3]))\n",
    "\n",
    "            elif year == '2021':\n",
    "                baseline2_average_crps_2021_list.append(np.mean(baseline_prediction_list[0][index]['prediction'][year][0]['CRPS'][s-3]))\n",
    "\n",
    "baseline2_average_crps_2018 = np.mean(baseline2_average_crps_2018_list)\n",
    "baseline2_average_crps_2019 = np.mean(baseline2_average_crps_2019_list)\n",
    "baseline2_average_crps_2020 = np.mean(baseline2_average_crps_2020_list)\n",
    "baseline2_average_crps_2021 = np.mean(baseline2_average_crps_2021_list)\n",
    "\n",
    "print('Overall CRPS baseline 1')\n",
    "print('Year 2018: ' + str(np.round(baseline2_average_crps_2018, decimals = 4)))\n",
    "print('Year 2019: ' + str(np.round(baseline2_average_crps_2019, decimals = 4)))\n",
    "print('Year 2020: ' + str(np.round(baseline2_average_crps_2020, decimals = 4)))\n",
    "print('Year 2021: ' + str(np.round(baseline2_average_crps_2021, decimals = 4)))"
   ]
  },
  {
   "cell_type": "markdown",
   "metadata": {},
   "source": [
    "# Mean CRPS Neural Net"
   ]
  },
  {
   "cell_type": "code",
   "execution_count": 36,
   "metadata": {},
   "outputs": [
    {
     "name": "stdout",
     "output_type": "stream",
     "text": [
      "Mean CRPS = 16.069918771815008 \\\\\n",
      "\n"
     ]
    }
   ],
   "source": [
    "import CRPS.CRPS as pscore\n",
    "import numpy as np\n",
    "\n",
    "monthly_NN_prediction = nn_data\n",
    "country_list = sorted(monthly_NN_prediction.index.get_level_values('country_id').unique().tolist())\n",
    "# country group list of all four datasets\n",
    "pred_country_group = monthly_NN_prediction.groupby('country_id')\n",
    "\n",
    "crps_values_test = []\n",
    "\n",
    "for country in pred_country_group:\n",
    "    country_id = country[0]\n",
    "    \n",
    "    country_crps_list = []\n",
    "    for i in range(0,12):\n",
    "        y_true = actual_group.get_group(country_id).iloc[i,0]\n",
    "        month = actuals_months[i]\n",
    "        prediction = pred_country_group.get_group(country_id).xs(month, level='month_id').values.flatten()\n",
    "        crps = pscore(prediction,y_true).compute()[0]\n",
    "        country_crps_list.append(crps)\n",
    "    crps_values_test.append(np.mean(country_crps_list))\n",
    "\n",
    "mean_crps_test = np.mean(crps_values_test)\n",
    "\n",
    "\n",
    "print('Mean CRPS = ' + str(mean_crps_test) + ' \\\\'+'\\\\')\n",
    "print('')    "
   ]
  },
  {
   "cell_type": "code",
   "execution_count": null,
   "metadata": {},
   "outputs": [],
   "source": [
    "monthly_fatlities_pred.to_parquet('cm_NeuralNet_test_window_2021.parquet')"
   ]
  },
  {
   "cell_type": "code",
   "execution_count": null,
   "metadata": {},
   "outputs": [],
   "source": []
  }
 ],
 "metadata": {
  "kernelspec": {
   "display_name": "Python 3",
   "language": "python",
   "name": "python3"
  },
  "language_info": {
   "codemirror_mode": {
    "name": "ipython",
    "version": 3
   },
   "file_extension": ".py",
   "mimetype": "text/x-python",
   "name": "python",
   "nbconvert_exporter": "python",
   "pygments_lexer": "ipython3",
   "version": "3.10.11"
  },
  "orig_nbformat": 4
 },
 "nbformat": 4,
 "nbformat_minor": 2
}
