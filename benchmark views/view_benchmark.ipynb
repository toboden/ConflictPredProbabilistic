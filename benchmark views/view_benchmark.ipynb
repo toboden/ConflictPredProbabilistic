{
 "cells": [
  {
   "cell_type": "code",
   "execution_count": 1,
   "metadata": {},
   "outputs": [
    {
     "data": {
      "text/html": [
       "<div>\n",
       "<style scoped>\n",
       "    .dataframe tbody tr th:only-of-type {\n",
       "        vertical-align: middle;\n",
       "    }\n",
       "\n",
       "    .dataframe tbody tr th {\n",
       "        vertical-align: top;\n",
       "    }\n",
       "\n",
       "    .dataframe thead th {\n",
       "        text-align: right;\n",
       "    }\n",
       "</style>\n",
       "<table border=\"1\" class=\"dataframe\">\n",
       "  <thead>\n",
       "    <tr style=\"text-align: right;\">\n",
       "      <th></th>\n",
       "      <th></th>\n",
       "      <th></th>\n",
       "      <th>outcome</th>\n",
       "    </tr>\n",
       "    <tr>\n",
       "      <th>month_id</th>\n",
       "      <th>country_id</th>\n",
       "      <th>draw</th>\n",
       "      <th></th>\n",
       "    </tr>\n",
       "  </thead>\n",
       "  <tbody>\n",
       "    <tr>\n",
       "      <th rowspan=\"5\" valign=\"top\">493</th>\n",
       "      <th rowspan=\"5\" valign=\"top\">1</th>\n",
       "      <th>0</th>\n",
       "      <td>0</td>\n",
       "    </tr>\n",
       "    <tr>\n",
       "      <th>1</th>\n",
       "      <td>0</td>\n",
       "    </tr>\n",
       "    <tr>\n",
       "      <th>2</th>\n",
       "      <td>0</td>\n",
       "    </tr>\n",
       "    <tr>\n",
       "      <th>3</th>\n",
       "      <td>0</td>\n",
       "    </tr>\n",
       "    <tr>\n",
       "      <th>4</th>\n",
       "      <td>17</td>\n",
       "    </tr>\n",
       "    <tr>\n",
       "      <th>...</th>\n",
       "      <th>...</th>\n",
       "      <th>...</th>\n",
       "      <td>...</td>\n",
       "    </tr>\n",
       "    <tr>\n",
       "      <th rowspan=\"5\" valign=\"top\">504</th>\n",
       "      <th rowspan=\"5\" valign=\"top\">246</th>\n",
       "      <th>995</th>\n",
       "      <td>0</td>\n",
       "    </tr>\n",
       "    <tr>\n",
       "      <th>996</th>\n",
       "      <td>52</td>\n",
       "    </tr>\n",
       "    <tr>\n",
       "      <th>997</th>\n",
       "      <td>0</td>\n",
       "    </tr>\n",
       "    <tr>\n",
       "      <th>998</th>\n",
       "      <td>0</td>\n",
       "    </tr>\n",
       "    <tr>\n",
       "      <th>999</th>\n",
       "      <td>0</td>\n",
       "    </tr>\n",
       "  </tbody>\n",
       "</table>\n",
       "<p>2292000 rows × 1 columns</p>\n",
       "</div>"
      ],
      "text/plain": [
       "                          outcome\n",
       "month_id country_id draw         \n",
       "493      1          0           0\n",
       "                    1           0\n",
       "                    2           0\n",
       "                    3           0\n",
       "                    4          17\n",
       "...                           ...\n",
       "504      246        995         0\n",
       "                    996        52\n",
       "                    997         0\n",
       "                    998         0\n",
       "                    999         0\n",
       "\n",
       "[2292000 rows x 1 columns]"
      ]
     },
     "execution_count": 1,
     "metadata": {},
     "output_type": "execute_result"
    }
   ],
   "source": [
    "import pandas as pd\n",
    "\n",
    "# Pfad zur Parquet-Datei\n",
    "parquet_file_path = r'C:\\Users\\Tobias\\Documents\\BAconflictPrediction\\ConflictPrediction\\benchmark views\\bm_cm_bootstrap_expanded_2021.parquet'\n",
    "\n",
    "# Parquet-Datei in ein DataFrame einlesen\n",
    "benchmark_data = pd.read_parquet(parquet_file_path)\n",
    "\n",
    "benchmark_data"
   ]
  },
  {
   "cell_type": "code",
   "execution_count": 2,
   "metadata": {},
   "outputs": [
    {
     "data": {
      "text/plain": [
       "country_id  draw\n",
       "1           0        0\n",
       "            1        0\n",
       "            2        0\n",
       "            3        0\n",
       "            4       17\n",
       "                    ..\n",
       "246         995      0\n",
       "            996      0\n",
       "            997      0\n",
       "            998      0\n",
       "            999      0\n",
       "Name: outcome, Length: 191000, dtype: int32"
      ]
     },
     "execution_count": 2,
     "metadata": {},
     "output_type": "execute_result"
    }
   ],
   "source": [
    "benchmark_data.xs(493, level='month_id').iloc[:,0]"
   ]
  },
  {
   "cell_type": "code",
   "execution_count": 3,
   "metadata": {},
   "outputs": [],
   "source": [
    "import os\n",
    "# create the feature- and actuals-data list\n",
    "# set the feature and actuals year lists\n",
    "feature_years = ['2017','2018','2019','2020']\n",
    "actual_years = ['2018','2019','2020','2021']\n",
    "\n",
    "actuals_df_list = []\n",
    "features_df_list = []\n",
    "\n",
    "# path to the current directory\n",
    "current_dir = os.getcwd()\n",
    "\n",
    "for i in range(len(feature_years)):\n",
    "    # relative paths to the parquet files\n",
    "    relative_path_features = os.path.join('..', 'data', 'cm_features_to_oct' + feature_years[i] + '.parquet')\n",
    "    relative_path_actuals = os.path.join('..', 'data', 'cm_actuals_' + actual_years[i] + '.parquet')\n",
    "\n",
    "    path_features = os.path.join(current_dir, relative_path_features)\n",
    "    path_actuals = os.path.join(current_dir, relative_path_actuals)\n",
    "\n",
    "    # append datasets to the lists\n",
    "    actuals_df_list.append({'year':actual_years[i], 'data':pd.read_parquet(path_actuals, engine='pyarrow')})\n",
    "    features_df_list.append({'year':feature_years[i], 'data':pd.read_parquet(path_features, engine='pyarrow')})\n",
    "\n",
    "# concat the feature datasets, so that every data contains the observations starting with january 1990\n",
    "for i in range(1,len(features_df_list)):\n",
    "    features_df_list[i]['data'] = pd.concat([features_df_list[i-1]['data'], features_df_list[i]['data']])\n",
    "\n",
    "country_list = sorted(features_df_list[3]['data'].index.get_level_values('country_id').unique().tolist())\n",
    "\n",
    "# country group list of all four datasets\n",
    "country_feature_group_list = []\n",
    "country_actual_group_list = []\n",
    "# fill list \n",
    "for i in range(len(features_df_list)):\n",
    "    country_feature_group_list.append(features_df_list[i]['data'].groupby('country_id'))\n",
    "    country_actual_group_list.append(actuals_df_list[i]['data'].groupby('country_id'))"
   ]
  },
  {
   "cell_type": "code",
   "execution_count": 4,
   "metadata": {},
   "outputs": [],
   "source": [
    "from joblib import load\n",
    "# var to set---- Jahr hier und unten in .joblib müssen übereinstimmen!!!\n",
    "prediction_year = '2021' # 2019, 2020, 2021\n",
    "#------\n",
    "\n",
    "dataset_index = actual_years.index(prediction_year)\n",
    "actual_data = actuals_df_list[dataset_index]['data']\n",
    "actuals_months = actual_data.index.get_level_values('month_id').unique()\n",
    "# FinalTask2_NN_2021_Hyperparamctr2204all\n",
    "# FinalTask2_NN_2021_HyperparamctrallIndividual\n",
    "# var to set----\n",
    "vars = load('FinalTask2_NN_2021_Hyperparamctr2204all.joblib')\n",
    "#-----\n",
    "NNet_prediction_list, country_list, pred_year_string, seed, zero_fatalities_country_list = vars"
   ]
  },
  {
   "cell_type": "markdown",
   "metadata": {},
   "source": [
    "# Transform Neural Net prediction to dataframe"
   ]
  },
  {
   "cell_type": "code",
   "execution_count": 5,
   "metadata": {},
   "outputs": [],
   "source": [
    "monthly_fatlities_pred = pd.DataFrame()\n",
    "# Iterieren Sie über die Daten und füllen Sie den DataFrame\n",
    "for country in NNet_prediction_list:\n",
    "    for s in country[pred_year_string][0]['s']:\n",
    "        month_id = actuals_months[s-3]\n",
    "        country_id = country['country_id']\n",
    "        distribution = country[pred_year_string][0]['distribution'][s-3]\n",
    "        draw = list(range(0,len(distribution)))\n",
    "\n",
    "        index_tupel_list = []\n",
    "        for i in range(len(distribution)):\n",
    "            index_tupel_list.append((month_id,country_id,draw[i]))\n",
    "\n",
    "        index = pd.MultiIndex.from_tuples(index_tupel_list, names=['month_id', 'country_id', 'draw'])\n",
    "\n",
    "        # Erstelle eine Beispiel-Spalte \"outcome\"\n",
    "        outcome = list(distribution)\n",
    "\n",
    "        # Erstelle den DataFrame\n",
    "        df = pd.DataFrame({'outcome': outcome}, index=index)\n",
    "\n",
    "        monthly_fatlities_pred = pd.concat([monthly_fatlities_pred, df], ignore_index=False)"
   ]
  },
  {
   "cell_type": "code",
   "execution_count": 6,
   "metadata": {},
   "outputs": [],
   "source": [
    "# proof that result is int32\n",
    "# monthly_fatlities_pred.xs(493, level='month_id').iloc[:,0]"
   ]
  },
  {
   "cell_type": "code",
   "execution_count": 7,
   "metadata": {},
   "outputs": [
    {
     "name": "stdout",
     "output_type": "stream",
     "text": [
      "Overall CRPS, max. w = 24\n",
      "baseline 1: 15.9885\n",
      "baseline 2: 15.8842\n",
      "baseline 3: 15.927\n",
      "baseline 4: 15.9482\n"
     ]
    }
   ],
   "source": [
    "import numpy as np\n",
    "\n",
    "user_dir = os.path.expanduser('~')\n",
    "file_path = os.path.join(user_dir, 'iCloudDrive\\\\Joblib BA\\\\final baseline', 'FinalTask2_baseline_predct_nbinomWmax24.joblib')\n",
    "loaded_vars_baseline = load(file_path)\n",
    "\n",
    "task2_baseline_list = loaded_vars_baseline[0] # crps averages for all 4 datasets\n",
    "w_minimization_list = loaded_vars_baseline[1] # contains the minimal w's for the different baselines for each year and country\n",
    "baseline_prediction_list = loaded_vars_baseline[2] # predictions with the minimal w's for each dataset and country\n",
    "baseline1_average_crps = loaded_vars_baseline[3] # mean CRPS from the baseline_prediction_list\n",
    "baseline2_average_crps = loaded_vars_baseline[4] # \"\"\n",
    "baseline3_average_crps = loaded_vars_baseline[5]\n",
    "baseline4_average_crps = loaded_vars_baseline[6]\n",
    "\n",
    "print('Overall CRPS, max. w = 24')\n",
    "print('baseline 1: ' + str(np.round(baseline1_average_crps, decimals = 4)))\n",
    "print('baseline 2: ' + str(np.round(baseline2_average_crps, decimals = 4)))\n",
    "print('baseline 3: ' + str(np.round(baseline3_average_crps, decimals = 4)))\n",
    "print('baseline 4: ' + str(np.round(baseline4_average_crps, decimals = 4)))"
   ]
  },
  {
   "cell_type": "markdown",
   "metadata": {},
   "source": [
    "# Mean CRPS Benchmark"
   ]
  },
  {
   "cell_type": "code",
   "execution_count": 8,
   "metadata": {},
   "outputs": [
    {
     "name": "stdout",
     "output_type": "stream",
     "text": [
      "Mean CRPS benchmark = 36.04513885558463 \\\\\n",
      "\n"
     ]
    }
   ],
   "source": [
    "import CRPS.CRPS as pscore\n",
    "import numpy as np\n",
    "\n",
    "actual_group = actual_data.groupby('country_id')\n",
    "\n",
    "bench_21_country_group = benchmark_data.groupby('country_id')\n",
    "crps_values_test = []\n",
    "\n",
    "for country in bench_21_country_group:\n",
    "    country_id = country[0]\n",
    "\n",
    "    country_crps_list = []\n",
    "    for i in range(0,12):\n",
    "        y_true = actual_group.get_group(country_id).iloc[i,0]\n",
    "        month = actuals_months[i]\n",
    "        prediction = bench_21_country_group.get_group(country_id).xs(month, level='month_id').values.flatten()\n",
    "        crps = pscore(prediction,y_true).compute()[0]\n",
    "        country_crps_list.append(crps)\n",
    "    crps_values_test.append(np.mean(country_crps_list))\n",
    "\n",
    "mean_crps_test = np.mean(crps_values_test)\n",
    "\n",
    "\n",
    "print('Mean CRPS benchmark = ' + str(mean_crps_test) + ' \\\\'+'\\\\')"
   ]
  },
  {
   "cell_type": "markdown",
   "metadata": {},
   "source": [
    "# Mean CRPS optimal Baseline Variant 2"
   ]
  },
  {
   "cell_type": "code",
   "execution_count": 9,
   "metadata": {},
   "outputs": [
    {
     "name": "stdout",
     "output_type": "stream",
     "text": [
      "Overall CRPS baseline 2\n",
      "Year 2018: 14.0671\n",
      "Year 2019: 9.3437\n",
      "Year 2020: 12.4648\n",
      "Year 2021: 27.6611\n"
     ]
    }
   ],
   "source": [
    "baseline2_average_crps_2018_list = []\n",
    "baseline2_average_crps_2019_list = []\n",
    "baseline2_average_crps_2020_list = []\n",
    "baseline2_average_crps_2021_list = []\n",
    "\n",
    "s_prediction_list = list(range(3, 15))\n",
    "\n",
    "for i in range(4):\n",
    "    year = actual_years[i]\n",
    "    for index in range(len(country_list)):\n",
    "        for s in s_prediction_list:\n",
    "            \n",
    "            if year == '2018':\n",
    "                baseline2_average_crps_2018_list.append(np.mean(baseline_prediction_list[1][index]['prediction'][year][0]['CRPS'][s-3]))\n",
    "\n",
    "            elif year == '2019':\n",
    "                baseline2_average_crps_2019_list.append(np.mean(baseline_prediction_list[1][index]['prediction'][year][0]['CRPS'][s-3]))\n",
    "\n",
    "            elif year == '2020':\n",
    "                baseline2_average_crps_2020_list.append(np.mean(baseline_prediction_list[1][index]['prediction'][year][0]['CRPS'][s-3]))\n",
    "\n",
    "            elif year == '2021':\n",
    "                baseline2_average_crps_2021_list.append(np.mean(baseline_prediction_list[1][index]['prediction'][year][0]['CRPS'][s-3]))\n",
    "\n",
    "baseline2_average_crps_2018 = np.mean(baseline2_average_crps_2018_list)\n",
    "baseline2_average_crps_2019 = np.mean(baseline2_average_crps_2019_list)\n",
    "baseline2_average_crps_2020 = np.mean(baseline2_average_crps_2020_list)\n",
    "baseline2_average_crps_2021 = np.mean(baseline2_average_crps_2021_list)\n",
    "\n",
    "print('Overall CRPS baseline 2')\n",
    "print('Year 2018: ' + str(np.round(baseline2_average_crps_2018, decimals = 4)))\n",
    "print('Year 2019: ' + str(np.round(baseline2_average_crps_2019, decimals = 4)))\n",
    "print('Year 2020: ' + str(np.round(baseline2_average_crps_2020, decimals = 4)))\n",
    "print('Year 2021: ' + str(np.round(baseline2_average_crps_2021, decimals = 4)))"
   ]
  },
  {
   "cell_type": "markdown",
   "metadata": {},
   "source": [
    "# Mean CRPS Neural Net"
   ]
  },
  {
   "cell_type": "code",
   "execution_count": 10,
   "metadata": {},
   "outputs": [
    {
     "name": "stdout",
     "output_type": "stream",
     "text": [
      "Mean CRPS = 28.678495124345552 \\\\\n",
      "\n"
     ]
    }
   ],
   "source": [
    "import CRPS.CRPS as pscore\n",
    "import numpy as np\n",
    "\n",
    "monthly_NN_prediction = monthly_fatlities_pred\n",
    "country_list = sorted(monthly_NN_prediction.index.get_level_values('country_id').unique().tolist())\n",
    "# country group list of all four datasets\n",
    "pred_country_group = monthly_NN_prediction.groupby('country_id')\n",
    "\n",
    "crps_values_test = []\n",
    "\n",
    "for country in pred_country_group:\n",
    "    country_id = country[0]\n",
    "    \n",
    "    country_crps_list = []\n",
    "    for i in range(0,12):\n",
    "        y_true = actual_group.get_group(country_id).iloc[i,0]\n",
    "        month = actuals_months[i]\n",
    "        prediction = pred_country_group.get_group(country_id).xs(month, level='month_id').values.flatten()\n",
    "        crps = pscore(prediction,y_true).compute()[0]\n",
    "        country_crps_list.append(crps)\n",
    "    crps_values_test.append(np.mean(country_crps_list))\n",
    "\n",
    "mean_crps_test = np.mean(crps_values_test)\n",
    "\n",
    "\n",
    "print('Mean CRPS = ' + str(mean_crps_test) + ' \\\\'+'\\\\')\n",
    "print('')    "
   ]
  },
  {
   "cell_type": "code",
   "execution_count": null,
   "metadata": {},
   "outputs": [],
   "source": []
  },
  {
   "cell_type": "code",
   "execution_count": null,
   "metadata": {},
   "outputs": [],
   "source": []
  }
 ],
 "metadata": {
  "kernelspec": {
   "display_name": "Python 3",
   "language": "python",
   "name": "python3"
  },
  "language_info": {
   "codemirror_mode": {
    "name": "ipython",
    "version": 3
   },
   "file_extension": ".py",
   "mimetype": "text/x-python",
   "name": "python",
   "nbconvert_exporter": "python",
   "pygments_lexer": "ipython3",
   "version": "3.10.11"
  },
  "orig_nbformat": 4
 },
 "nbformat": 4,
 "nbformat_minor": 2
}
